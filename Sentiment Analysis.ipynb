{
 "cells": [
  {
   "cell_type": "code",
   "execution_count": 1,
   "id": "aa18dfc9",
   "metadata": {},
   "outputs": [],
   "source": [
    "import pandas as pd\n",
    "import numpy as np"
   ]
  },
  {
   "cell_type": "code",
   "execution_count": 26,
   "id": "febe9e2a",
   "metadata": {},
   "outputs": [],
   "source": [
    "# amazon_data = pd.read_excel(\"amazonLabelled.xlsx\")\n",
    "twitter_Data = pd.read_csv(\"dataset.csv\",\n",
    "                           encoding=\"latin1\",\n",
    "                           names = [\"sentiment\", \"id\", \"date\", \"query\", \"username\", \"tweet\"])"
   ]
  },
  {
   "cell_type": "code",
   "execution_count": 27,
   "id": "e76e308a",
   "metadata": {},
   "outputs": [
    {
     "data": {
      "text/html": [
       "<div>\n",
       "<style scoped>\n",
       "    .dataframe tbody tr th:only-of-type {\n",
       "        vertical-align: middle;\n",
       "    }\n",
       "\n",
       "    .dataframe tbody tr th {\n",
       "        vertical-align: top;\n",
       "    }\n",
       "\n",
       "    .dataframe thead th {\n",
       "        text-align: right;\n",
       "    }\n",
       "</style>\n",
       "<table border=\"1\" class=\"dataframe\">\n",
       "  <thead>\n",
       "    <tr style=\"text-align: right;\">\n",
       "      <th></th>\n",
       "      <th>sentiment</th>\n",
       "      <th>id</th>\n",
       "      <th>date</th>\n",
       "      <th>query</th>\n",
       "      <th>username</th>\n",
       "      <th>tweet</th>\n",
       "    </tr>\n",
       "  </thead>\n",
       "  <tbody>\n",
       "    <tr>\n",
       "      <th>0</th>\n",
       "      <td>0</td>\n",
       "      <td>1467810369</td>\n",
       "      <td>Mon Apr 06 22:19:45 PDT 2009</td>\n",
       "      <td>NO_QUERY</td>\n",
       "      <td>_TheSpecialOne_</td>\n",
       "      <td>@switchfoot http://twitpic.com/2y1zl - Awww, t...</td>\n",
       "    </tr>\n",
       "    <tr>\n",
       "      <th>1</th>\n",
       "      <td>0</td>\n",
       "      <td>1467810672</td>\n",
       "      <td>Mon Apr 06 22:19:49 PDT 2009</td>\n",
       "      <td>NO_QUERY</td>\n",
       "      <td>scotthamilton</td>\n",
       "      <td>is upset that he can't update his Facebook by ...</td>\n",
       "    </tr>\n",
       "    <tr>\n",
       "      <th>2</th>\n",
       "      <td>0</td>\n",
       "      <td>1467810917</td>\n",
       "      <td>Mon Apr 06 22:19:53 PDT 2009</td>\n",
       "      <td>NO_QUERY</td>\n",
       "      <td>mattycus</td>\n",
       "      <td>@Kenichan I dived many times for the ball. Man...</td>\n",
       "    </tr>\n",
       "    <tr>\n",
       "      <th>3</th>\n",
       "      <td>0</td>\n",
       "      <td>1467811184</td>\n",
       "      <td>Mon Apr 06 22:19:57 PDT 2009</td>\n",
       "      <td>NO_QUERY</td>\n",
       "      <td>ElleCTF</td>\n",
       "      <td>my whole body feels itchy and like its on fire</td>\n",
       "    </tr>\n",
       "    <tr>\n",
       "      <th>4</th>\n",
       "      <td>0</td>\n",
       "      <td>1467811193</td>\n",
       "      <td>Mon Apr 06 22:19:57 PDT 2009</td>\n",
       "      <td>NO_QUERY</td>\n",
       "      <td>Karoli</td>\n",
       "      <td>@nationwideclass no, it's not behaving at all....</td>\n",
       "    </tr>\n",
       "    <tr>\n",
       "      <th>...</th>\n",
       "      <td>...</td>\n",
       "      <td>...</td>\n",
       "      <td>...</td>\n",
       "      <td>...</td>\n",
       "      <td>...</td>\n",
       "      <td>...</td>\n",
       "    </tr>\n",
       "    <tr>\n",
       "      <th>1599995</th>\n",
       "      <td>4</td>\n",
       "      <td>2193601966</td>\n",
       "      <td>Tue Jun 16 08:40:49 PDT 2009</td>\n",
       "      <td>NO_QUERY</td>\n",
       "      <td>AmandaMarie1028</td>\n",
       "      <td>Just woke up. Having no school is the best fee...</td>\n",
       "    </tr>\n",
       "    <tr>\n",
       "      <th>1599996</th>\n",
       "      <td>4</td>\n",
       "      <td>2193601969</td>\n",
       "      <td>Tue Jun 16 08:40:49 PDT 2009</td>\n",
       "      <td>NO_QUERY</td>\n",
       "      <td>TheWDBoards</td>\n",
       "      <td>TheWDB.com - Very cool to hear old Walt interv...</td>\n",
       "    </tr>\n",
       "    <tr>\n",
       "      <th>1599997</th>\n",
       "      <td>4</td>\n",
       "      <td>2193601991</td>\n",
       "      <td>Tue Jun 16 08:40:49 PDT 2009</td>\n",
       "      <td>NO_QUERY</td>\n",
       "      <td>bpbabe</td>\n",
       "      <td>Are you ready for your MoJo Makeover? Ask me f...</td>\n",
       "    </tr>\n",
       "    <tr>\n",
       "      <th>1599998</th>\n",
       "      <td>4</td>\n",
       "      <td>2193602064</td>\n",
       "      <td>Tue Jun 16 08:40:49 PDT 2009</td>\n",
       "      <td>NO_QUERY</td>\n",
       "      <td>tinydiamondz</td>\n",
       "      <td>Happy 38th Birthday to my boo of alll time!!! ...</td>\n",
       "    </tr>\n",
       "    <tr>\n",
       "      <th>1599999</th>\n",
       "      <td>4</td>\n",
       "      <td>2193602129</td>\n",
       "      <td>Tue Jun 16 08:40:50 PDT 2009</td>\n",
       "      <td>NO_QUERY</td>\n",
       "      <td>RyanTrevMorris</td>\n",
       "      <td>happy #charitytuesday @theNSPCC @SparksCharity...</td>\n",
       "    </tr>\n",
       "  </tbody>\n",
       "</table>\n",
       "<p>1600000 rows × 6 columns</p>\n",
       "</div>"
      ],
      "text/plain": [
       "         sentiment          id                          date     query  \\\n",
       "0                0  1467810369  Mon Apr 06 22:19:45 PDT 2009  NO_QUERY   \n",
       "1                0  1467810672  Mon Apr 06 22:19:49 PDT 2009  NO_QUERY   \n",
       "2                0  1467810917  Mon Apr 06 22:19:53 PDT 2009  NO_QUERY   \n",
       "3                0  1467811184  Mon Apr 06 22:19:57 PDT 2009  NO_QUERY   \n",
       "4                0  1467811193  Mon Apr 06 22:19:57 PDT 2009  NO_QUERY   \n",
       "...            ...         ...                           ...       ...   \n",
       "1599995          4  2193601966  Tue Jun 16 08:40:49 PDT 2009  NO_QUERY   \n",
       "1599996          4  2193601969  Tue Jun 16 08:40:49 PDT 2009  NO_QUERY   \n",
       "1599997          4  2193601991  Tue Jun 16 08:40:49 PDT 2009  NO_QUERY   \n",
       "1599998          4  2193602064  Tue Jun 16 08:40:49 PDT 2009  NO_QUERY   \n",
       "1599999          4  2193602129  Tue Jun 16 08:40:50 PDT 2009  NO_QUERY   \n",
       "\n",
       "                username                                              tweet  \n",
       "0        _TheSpecialOne_  @switchfoot http://twitpic.com/2y1zl - Awww, t...  \n",
       "1          scotthamilton  is upset that he can't update his Facebook by ...  \n",
       "2               mattycus  @Kenichan I dived many times for the ball. Man...  \n",
       "3                ElleCTF    my whole body feels itchy and like its on fire   \n",
       "4                 Karoli  @nationwideclass no, it's not behaving at all....  \n",
       "...                  ...                                                ...  \n",
       "1599995  AmandaMarie1028  Just woke up. Having no school is the best fee...  \n",
       "1599996      TheWDBoards  TheWDB.com - Very cool to hear old Walt interv...  \n",
       "1599997           bpbabe  Are you ready for your MoJo Makeover? Ask me f...  \n",
       "1599998     tinydiamondz  Happy 38th Birthday to my boo of alll time!!! ...  \n",
       "1599999   RyanTrevMorris  happy #charitytuesday @theNSPCC @SparksCharity...  \n",
       "\n",
       "[1600000 rows x 6 columns]"
      ]
     },
     "execution_count": 27,
     "metadata": {},
     "output_type": "execute_result"
    }
   ],
   "source": [
    "twitter_Data"
   ]
  },
  {
   "cell_type": "code",
   "execution_count": 35,
   "id": "d056a041",
   "metadata": {},
   "outputs": [
    {
     "data": {
      "text/plain": [
       "\"@switchfoot http://twitpic.com/2y1zl - Awww, that's a bummer.  You shoulda got David Carr of Third Day to do it. ;D\""
      ]
     },
     "execution_count": 35,
     "metadata": {},
     "output_type": "execute_result"
    }
   ],
   "source": [
    "twitter_Data.tweet[0]"
   ]
  },
  {
   "cell_type": "code",
   "execution_count": 30,
   "id": "943c3a2f",
   "metadata": {},
   "outputs": [],
   "source": [
    "import seaborn as sns"
   ]
  },
  {
   "cell_type": "code",
   "execution_count": 37,
   "id": "be19bd9f",
   "metadata": {},
   "outputs": [
    {
     "data": {
      "text/plain": [
       "(array([0, 4]), array([800000, 800000]))"
      ]
     },
     "execution_count": 37,
     "metadata": {},
     "output_type": "execute_result"
    }
   ],
   "source": [
    "np.unique(twitter_Data.sentiment, return_counts=True)"
   ]
  },
  {
   "cell_type": "code",
   "execution_count": 36,
   "id": "af2461e0",
   "metadata": {},
   "outputs": [
    {
     "data": {
      "image/png": "[encoded data removed]",
      "text/plain": [
       "<Figure size 1080x648 with 1 Axes>"
      ]
     },
     "metadata": {
      "needs_background": "light"
     },
     "output_type": "display_data"
    }
   ],
   "source": [
    "import matplotlib.pyplot as plt\n",
    "plt.figure(figsize = (15, 9))\n",
    "sns.countplot(x = twitter_Data.sentiment)\n",
    "plt.show()"
   ]
  },
  {
   "cell_type": "code",
   "execution_count": 24,
   "id": "807b0e57",
   "metadata": {},
   "outputs": [],
   "source": [
    "# Loading the Dataset\n",
    "amazon_data = pd.read_excel(\"amazonLabelled.xlsx\")"
   ]
  },
  {
   "cell_type": "code",
   "execution_count": 25,
   "id": "2f3f8287",
   "metadata": {},
   "outputs": [
    {
     "data": {
      "text/html": [
       "<div>\n",
       "<style scoped>\n",
       "    .dataframe tbody tr th:only-of-type {\n",
       "        vertical-align: middle;\n",
       "    }\n",
       "\n",
       "    .dataframe tbody tr th {\n",
       "        vertical-align: top;\n",
       "    }\n",
       "\n",
       "    .dataframe thead th {\n",
       "        text-align: right;\n",
       "    }\n",
       "</style>\n",
       "<table border=\"1\" class=\"dataframe\">\n",
       "  <thead>\n",
       "    <tr style=\"text-align: right;\">\n",
       "      <th></th>\n",
       "      <th>S</th>\n",
       "      <th>Feedback</th>\n",
       "      <th>Sentiment</th>\n",
       "    </tr>\n",
       "  </thead>\n",
       "  <tbody>\n",
       "    <tr>\n",
       "      <th>0</th>\n",
       "      <td>1.0</td>\n",
       "      <td>Good case, Excellent value.</td>\n",
       "      <td>Positive</td>\n",
       "    </tr>\n",
       "    <tr>\n",
       "      <th>1</th>\n",
       "      <td>2.0</td>\n",
       "      <td>Great for the jawbone.</td>\n",
       "      <td>Positive</td>\n",
       "    </tr>\n",
       "    <tr>\n",
       "      <th>2</th>\n",
       "      <td>3.0</td>\n",
       "      <td>Tied to charger for conversations lasting more...</td>\n",
       "      <td>Negative</td>\n",
       "    </tr>\n",
       "    <tr>\n",
       "      <th>3</th>\n",
       "      <td>4.0</td>\n",
       "      <td>The mic is great.</td>\n",
       "      <td>Positive</td>\n",
       "    </tr>\n",
       "    <tr>\n",
       "      <th>4</th>\n",
       "      <td>5.0</td>\n",
       "      <td>I have to jiggle the plug to get it to line up...</td>\n",
       "      <td>Negative</td>\n",
       "    </tr>\n",
       "  </tbody>\n",
       "</table>\n",
       "</div>"
      ],
      "text/plain": [
       "     S                                           Feedback Sentiment\n",
       "0  1.0                        Good case, Excellent value.  Positive\n",
       "1  2.0                             Great for the jawbone.  Positive\n",
       "2  3.0  Tied to charger for conversations lasting more...  Negative\n",
       "3  4.0                                  The mic is great.  Positive\n",
       "4  5.0  I have to jiggle the plug to get it to line up...  Negative"
      ]
     },
     "execution_count": 25,
     "metadata": {},
     "output_type": "execute_result"
    }
   ],
   "source": [
    "amazon_data.head()"
   ]
  },
  {
   "cell_type": "code",
   "execution_count": 28,
   "id": "d03fccbc",
   "metadata": {},
   "outputs": [],
   "source": [
    "amazon_data.drop(\"S\", axis = 1, inplace = True)"
   ]
  },
  {
   "cell_type": "code",
   "execution_count": 29,
   "id": "6342b1c7",
   "metadata": {},
   "outputs": [
    {
     "data": {
      "text/html": [
       "<div>\n",
       "<style scoped>\n",
       "    .dataframe tbody tr th:only-of-type {\n",
       "        vertical-align: middle;\n",
       "    }\n",
       "\n",
       "    .dataframe tbody tr th {\n",
       "        vertical-align: top;\n",
       "    }\n",
       "\n",
       "    .dataframe thead th {\n",
       "        text-align: right;\n",
       "    }\n",
       "</style>\n",
       "<table border=\"1\" class=\"dataframe\">\n",
       "  <thead>\n",
       "    <tr style=\"text-align: right;\">\n",
       "      <th></th>\n",
       "      <th>Feedback</th>\n",
       "      <th>Sentiment</th>\n",
       "    </tr>\n",
       "  </thead>\n",
       "  <tbody>\n",
       "    <tr>\n",
       "      <th>0</th>\n",
       "      <td>Good case, Excellent value.</td>\n",
       "      <td>Positive</td>\n",
       "    </tr>\n",
       "    <tr>\n",
       "      <th>1</th>\n",
       "      <td>Great for the jawbone.</td>\n",
       "      <td>Positive</td>\n",
       "    </tr>\n",
       "    <tr>\n",
       "      <th>2</th>\n",
       "      <td>Tied to charger for conversations lasting more...</td>\n",
       "      <td>Negative</td>\n",
       "    </tr>\n",
       "    <tr>\n",
       "      <th>3</th>\n",
       "      <td>The mic is great.</td>\n",
       "      <td>Positive</td>\n",
       "    </tr>\n",
       "    <tr>\n",
       "      <th>4</th>\n",
       "      <td>I have to jiggle the plug to get it to line up...</td>\n",
       "      <td>Negative</td>\n",
       "    </tr>\n",
       "    <tr>\n",
       "      <th>...</th>\n",
       "      <td>...</td>\n",
       "      <td>...</td>\n",
       "    </tr>\n",
       "    <tr>\n",
       "      <th>994</th>\n",
       "      <td>The screen does get smudged easily because it ...</td>\n",
       "      <td>Negative</td>\n",
       "    </tr>\n",
       "    <tr>\n",
       "      <th>995</th>\n",
       "      <td>What a piece of junk.. I lose more calls on th...</td>\n",
       "      <td>Negative</td>\n",
       "    </tr>\n",
       "    <tr>\n",
       "      <th>996</th>\n",
       "      <td>Item Does Not Match Picture.</td>\n",
       "      <td>Negative</td>\n",
       "    </tr>\n",
       "    <tr>\n",
       "      <th>997</th>\n",
       "      <td>The only thing that disappoint me is the infra...</td>\n",
       "      <td>Negative</td>\n",
       "    </tr>\n",
       "    <tr>\n",
       "      <th>998</th>\n",
       "      <td>You can not answer calls with the unit, never ...</td>\n",
       "      <td>Negative</td>\n",
       "    </tr>\n",
       "  </tbody>\n",
       "</table>\n",
       "<p>999 rows × 2 columns</p>\n",
       "</div>"
      ],
      "text/plain": [
       "                                              Feedback Sentiment\n",
       "0                          Good case, Excellent value.  Positive\n",
       "1                               Great for the jawbone.  Positive\n",
       "2    Tied to charger for conversations lasting more...  Negative\n",
       "3                                    The mic is great.  Positive\n",
       "4    I have to jiggle the plug to get it to line up...  Negative\n",
       "..                                                 ...       ...\n",
       "994  The screen does get smudged easily because it ...  Negative\n",
       "995  What a piece of junk.. I lose more calls on th...  Negative\n",
       "996                       Item Does Not Match Picture.  Negative\n",
       "997  The only thing that disappoint me is the infra...  Negative\n",
       "998  You can not answer calls with the unit, never ...  Negative\n",
       "\n",
       "[999 rows x 2 columns]"
      ]
     },
     "execution_count": 29,
     "metadata": {},
     "output_type": "execute_result"
    }
   ],
   "source": [
    "amazon_data"
   ]
  },
  {
   "cell_type": "code",
   "execution_count": 49,
   "id": "4da0e934",
   "metadata": {},
   "outputs": [
    {
     "data": {
      "image/png": "[encoded data removed]",
      "text/plain": [
       "<Figure size 1080x648 with 1 Axes>"
      ]
     },
     "metadata": {
      "needs_background": "light"
     },
     "output_type": "display_data"
    }
   ],
   "source": [
    "plt.figure(figsize = (15, 9))\n",
    "sns.countplot(x = amazon_data.Sentiment)\n",
    "plt.show()"
   ]
  },
  {
   "cell_type": "code",
   "execution_count": 50,
   "id": "8534f42d",
   "metadata": {},
   "outputs": [
    {
     "data": {
      "text/plain": [
       "(array(['Negative', 'Positive'], dtype=object), array([499, 500]))"
      ]
     },
     "execution_count": 50,
     "metadata": {},
     "output_type": "execute_result"
    }
   ],
   "source": [
    "np.unique(amazon_data.Sentiment, return_counts=True)"
   ]
  },
  {
   "cell_type": "code",
   "execution_count": 39,
   "id": "700f8ba3",
   "metadata": {},
   "outputs": [
    {
     "name": "stderr",
     "output_type": "stream",
     "text": [
      "[nltk_data] Downloading package vader_lexicon to\n",
      "[nltk_data]     /Users/harshitdawar/nltk_data...\n",
      "[nltk_data]   Package vader_lexicon is already up-to-date!\n"
     ]
    },
    {
     "data": {
      "text/plain": [
       "True"
      ]
     },
     "execution_count": 39,
     "metadata": {},
     "output_type": "execute_result"
    }
   ],
   "source": [
    "## Sentiment Analysis using nltk library!\n",
    "import nltk\n",
    "nltk.download(\"vader_lexicon\")"
   ]
  },
  {
   "cell_type": "code",
   "execution_count": 40,
   "id": "4cd019ae",
   "metadata": {},
   "outputs": [],
   "source": [
    "from nltk.sentiment.vader import SentimentIntensityAnalyzer"
   ]
  },
  {
   "cell_type": "code",
   "execution_count": 44,
   "id": "5f3d8482",
   "metadata": {},
   "outputs": [],
   "source": [
    "# Creating a Sentiment Analyzer Object\n",
    "analyzer = SentimentIntensityAnalyzer()"
   ]
  },
  {
   "cell_type": "code",
   "execution_count": 48,
   "id": "5f3eef28",
   "metadata": {},
   "outputs": [
    {
     "name": "stdout",
     "output_type": "stream",
     "text": [
      "{'neg': 0.0, 'neu': 0.1, 'pos': 0.9, 'compound': 0.8402}\n",
      "{'neg': 0.287, 'neu': 0.713, 'pos': 0.0, 'compound': -0.6145}\n",
      "{'neg': 0.0, 'neu': 1.0, 'pos': 0.0, 'compound': 0.0}\n"
     ]
    }
   ],
   "source": [
    "# Getting the sentiments automatically\n",
    "\n",
    "print(analyzer.polarity_scores(amazon_data.Feedback[0]))\n",
    "print(analyzer.polarity_scores(amazon_data.Feedback[2]))\n",
    "print(analyzer.polarity_scores(amazon_data.Feedback[998]))"
   ]
  },
  {
   "cell_type": "code",
   "execution_count": 55,
   "id": "ffb71cec",
   "metadata": {},
   "outputs": [],
   "source": [
    "positive = []\n",
    "negative = []\n",
    "neutral = []\n",
    "compound = []\n",
    "\n",
    "for review_index in range(amazon_data.shape[0]):\n",
    "    score = analyzer.polarity_scores(amazon_data.Feedback[review_index])\n",
    "    positive.append(score[\"pos\"])\n",
    "    negative.append(score[\"neg\"])\n",
    "    neutral.append(score[\"neu\"])\n",
    "    compound.append(score[\"compound\"])"
   ]
  },
  {
   "cell_type": "code",
   "execution_count": 57,
   "id": "38385465",
   "metadata": {},
   "outputs": [
    {
     "data": {
      "text/plain": [
       "(0.20306806806806807,\n",
       " 0.10502402402402404,\n",
       " 0.6919149149149149,\n",
       " 0.13783373373373373)"
      ]
     },
     "execution_count": 57,
     "metadata": {},
     "output_type": "execute_result"
    }
   ],
   "source": [
    "np.mean(np.array(positive)), np.mean(np.array(negative)), np.mean(np.array(neutral)), np.mean(np.array(compound))"
   ]
  },
  {
   "cell_type": "code",
   "execution_count": 58,
   "id": "9eb2f468",
   "metadata": {},
   "outputs": [],
   "source": [
    "from sklearn.preprocessing import LabelEncoder"
   ]
  },
  {
   "cell_type": "code",
   "execution_count": 59,
   "id": "f26e8e03",
   "metadata": {},
   "outputs": [],
   "source": [
    "encoder = LabelEncoder()\n",
    "    \n",
    "amazon_data.Sentiment = encoder.fit_transform(amazon_data.Sentiment)"
   ]
  },
  {
   "cell_type": "code",
   "execution_count": 60,
   "id": "b00e6a51",
   "metadata": {},
   "outputs": [
    {
     "data": {
      "text/html": [
       "<div>\n",
       "<style scoped>\n",
       "    .dataframe tbody tr th:only-of-type {\n",
       "        vertical-align: middle;\n",
       "    }\n",
       "\n",
       "    .dataframe tbody tr th {\n",
       "        vertical-align: top;\n",
       "    }\n",
       "\n",
       "    .dataframe thead th {\n",
       "        text-align: right;\n",
       "    }\n",
       "</style>\n",
       "<table border=\"1\" class=\"dataframe\">\n",
       "  <thead>\n",
       "    <tr style=\"text-align: right;\">\n",
       "      <th></th>\n",
       "      <th>Feedback</th>\n",
       "      <th>Sentiment</th>\n",
       "    </tr>\n",
       "  </thead>\n",
       "  <tbody>\n",
       "    <tr>\n",
       "      <th>0</th>\n",
       "      <td>Good case, Excellent value.</td>\n",
       "      <td>1</td>\n",
       "    </tr>\n",
       "    <tr>\n",
       "      <th>1</th>\n",
       "      <td>Great for the jawbone.</td>\n",
       "      <td>1</td>\n",
       "    </tr>\n",
       "    <tr>\n",
       "      <th>2</th>\n",
       "      <td>Tied to charger for conversations lasting more...</td>\n",
       "      <td>0</td>\n",
       "    </tr>\n",
       "    <tr>\n",
       "      <th>3</th>\n",
       "      <td>The mic is great.</td>\n",
       "      <td>1</td>\n",
       "    </tr>\n",
       "    <tr>\n",
       "      <th>4</th>\n",
       "      <td>I have to jiggle the plug to get it to line up...</td>\n",
       "      <td>0</td>\n",
       "    </tr>\n",
       "    <tr>\n",
       "      <th>...</th>\n",
       "      <td>...</td>\n",
       "      <td>...</td>\n",
       "    </tr>\n",
       "    <tr>\n",
       "      <th>994</th>\n",
       "      <td>The screen does get smudged easily because it ...</td>\n",
       "      <td>0</td>\n",
       "    </tr>\n",
       "    <tr>\n",
       "      <th>995</th>\n",
       "      <td>What a piece of junk.. I lose more calls on th...</td>\n",
       "      <td>0</td>\n",
       "    </tr>\n",
       "    <tr>\n",
       "      <th>996</th>\n",
       "      <td>Item Does Not Match Picture.</td>\n",
       "      <td>0</td>\n",
       "    </tr>\n",
       "    <tr>\n",
       "      <th>997</th>\n",
       "      <td>The only thing that disappoint me is the infra...</td>\n",
       "      <td>0</td>\n",
       "    </tr>\n",
       "    <tr>\n",
       "      <th>998</th>\n",
       "      <td>You can not answer calls with the unit, never ...</td>\n",
       "      <td>0</td>\n",
       "    </tr>\n",
       "  </tbody>\n",
       "</table>\n",
       "<p>999 rows × 2 columns</p>\n",
       "</div>"
      ],
      "text/plain": [
       "                                              Feedback  Sentiment\n",
       "0                          Good case, Excellent value.          1\n",
       "1                               Great for the jawbone.          1\n",
       "2    Tied to charger for conversations lasting more...          0\n",
       "3                                    The mic is great.          1\n",
       "4    I have to jiggle the plug to get it to line up...          0\n",
       "..                                                 ...        ...\n",
       "994  The screen does get smudged easily because it ...          0\n",
       "995  What a piece of junk.. I lose more calls on th...          0\n",
       "996                       Item Does Not Match Picture.          0\n",
       "997  The only thing that disappoint me is the infra...          0\n",
       "998  You can not answer calls with the unit, never ...          0\n",
       "\n",
       "[999 rows x 2 columns]"
      ]
     },
     "execution_count": 60,
     "metadata": {},
     "output_type": "execute_result"
    }
   ],
   "source": [
    "amazon_data"
   ]
  },
  {
   "cell_type": "code",
   "execution_count": 61,
   "id": "79df97db",
   "metadata": {},
   "outputs": [
    {
     "data": {
      "text/plain": [
       "array(['Negative', 'Positive'], dtype=object)"
      ]
     },
     "execution_count": 61,
     "metadata": {},
     "output_type": "execute_result"
    }
   ],
   "source": [
    "encoder.classes_"
   ]
  },
  {
   "cell_type": "code",
   "execution_count": 63,
   "id": "97c3409c",
   "metadata": {},
   "outputs": [
    {
     "data": {
      "text/plain": [
       "array(['Negative'], dtype=object)"
      ]
     },
     "execution_count": 63,
     "metadata": {},
     "output_type": "execute_result"
    }
   ],
   "source": [
    "encoder.inverse_transform([0])"
   ]
  },
  {
   "cell_type": "code",
   "execution_count": 65,
   "id": "d400e781",
   "metadata": {},
   "outputs": [],
   "source": [
    "import spacy\n",
    "English_Model = spacy.load(\"en_core_web_sm\", disable = [\"ner\", \"parser\"])"
   ]
  },
  {
   "cell_type": "code",
   "execution_count": 247,
   "id": "abb1ab26",
   "metadata": {},
   "outputs": [],
   "source": [
    "def ProcessData(review):\n",
    "    review = English_Model(review)\n",
    "    \n",
    "    temp = []\n",
    "    \n",
    "    for token in review:\n",
    "#         if not token.is_stop and not token.is_punct and not token.is_space and not token.like_num:\n",
    "        if not token.is_stop and not (token.is_punct or token.is_space or token.like_num):\n",
    "            temp.append(token.lemma_.lower())\n",
    "            \n",
    "    return \" \".join(word for word in temp)"
   ]
  },
  {
   "cell_type": "code",
   "execution_count": 248,
   "id": "a9b17b06",
   "metadata": {},
   "outputs": [
    {
     "data": {
      "text/plain": [
       "'good case excellent value'"
      ]
     },
     "execution_count": 248,
     "metadata": {},
     "output_type": "execute_result"
    }
   ],
   "source": [
    "ProcessData(amazon_data.Feedback[0])"
   ]
  },
  {
   "cell_type": "code",
   "execution_count": 249,
   "id": "8c66f69f",
   "metadata": {},
   "outputs": [
    {
     "data": {
      "text/plain": [
       "'tied charger conversation last minute major problem'"
      ]
     },
     "execution_count": 249,
     "metadata": {},
     "output_type": "execute_result"
    }
   ],
   "source": [
    "ProcessData(amazon_data.Feedback[2])"
   ]
  },
  {
   "cell_type": "code",
   "execution_count": 250,
   "id": "9a538a25",
   "metadata": {},
   "outputs": [
    {
     "data": {
      "text/plain": [
       "'tied charger conversations lasting minutes major problems'"
      ]
     },
     "execution_count": 250,
     "metadata": {},
     "output_type": "execute_result"
    }
   ],
   "source": [
    "amazon_data.Feedback[2]"
   ]
  },
  {
   "cell_type": "code",
   "execution_count": 251,
   "id": "d03928d8",
   "metadata": {},
   "outputs": [],
   "source": [
    "amazon_data.Feedback = amazon_data.Feedback.apply(ProcessData)"
   ]
  },
  {
   "cell_type": "code",
   "execution_count": 252,
   "id": "a9938229",
   "metadata": {},
   "outputs": [
    {
     "data": {
      "text/html": [
       "<div>\n",
       "<style scoped>\n",
       "    .dataframe tbody tr th:only-of-type {\n",
       "        vertical-align: middle;\n",
       "    }\n",
       "\n",
       "    .dataframe tbody tr th {\n",
       "        vertical-align: top;\n",
       "    }\n",
       "\n",
       "    .dataframe thead th {\n",
       "        text-align: right;\n",
       "    }\n",
       "</style>\n",
       "<table border=\"1\" class=\"dataframe\">\n",
       "  <thead>\n",
       "    <tr style=\"text-align: right;\">\n",
       "      <th></th>\n",
       "      <th>Feedback</th>\n",
       "      <th>Sentiment</th>\n",
       "    </tr>\n",
       "  </thead>\n",
       "  <tbody>\n",
       "    <tr>\n",
       "      <th>0</th>\n",
       "      <td>good case excellent value</td>\n",
       "      <td>1</td>\n",
       "    </tr>\n",
       "    <tr>\n",
       "      <th>1</th>\n",
       "      <td>great jawbone</td>\n",
       "      <td>1</td>\n",
       "    </tr>\n",
       "    <tr>\n",
       "      <th>2</th>\n",
       "      <td>tied charger conversation last minute major pr...</td>\n",
       "      <td>0</td>\n",
       "    </tr>\n",
       "    <tr>\n",
       "      <th>3</th>\n",
       "      <td>mic great</td>\n",
       "      <td>1</td>\n",
       "    </tr>\n",
       "    <tr>\n",
       "      <th>4</th>\n",
       "      <td>jiggle plug line right decent volume</td>\n",
       "      <td>0</td>\n",
       "    </tr>\n",
       "    <tr>\n",
       "      <th>...</th>\n",
       "      <td>...</td>\n",
       "      <td>...</td>\n",
       "    </tr>\n",
       "    <tr>\n",
       "      <th>994</th>\n",
       "      <td>screen smudge easily touch ear face</td>\n",
       "      <td>0</td>\n",
       "    </tr>\n",
       "    <tr>\n",
       "      <th>995</th>\n",
       "      <td>piece junk lose call phone</td>\n",
       "      <td>0</td>\n",
       "    </tr>\n",
       "    <tr>\n",
       "      <th>996</th>\n",
       "      <td>item match picture</td>\n",
       "      <td>0</td>\n",
       "    </tr>\n",
       "    <tr>\n",
       "      <th>997</th>\n",
       "      <td>thing disappoint infra red port irda</td>\n",
       "      <td>0</td>\n",
       "    </tr>\n",
       "    <tr>\n",
       "      <th>998</th>\n",
       "      <td>answer calls unit work</td>\n",
       "      <td>0</td>\n",
       "    </tr>\n",
       "  </tbody>\n",
       "</table>\n",
       "<p>999 rows × 2 columns</p>\n",
       "</div>"
      ],
      "text/plain": [
       "                                              Feedback  Sentiment\n",
       "0                            good case excellent value          1\n",
       "1                                        great jawbone          1\n",
       "2    tied charger conversation last minute major pr...          0\n",
       "3                                            mic great          1\n",
       "4                 jiggle plug line right decent volume          0\n",
       "..                                                 ...        ...\n",
       "994                screen smudge easily touch ear face          0\n",
       "995                         piece junk lose call phone          0\n",
       "996                                 item match picture          0\n",
       "997               thing disappoint infra red port irda          0\n",
       "998                             answer calls unit work          0\n",
       "\n",
       "[999 rows x 2 columns]"
      ]
     },
     "execution_count": 252,
     "metadata": {},
     "output_type": "execute_result"
    }
   ],
   "source": [
    "amazon_data"
   ]
  },
  {
   "cell_type": "code",
   "execution_count": 253,
   "id": "faad5f45",
   "metadata": {},
   "outputs": [],
   "source": [
    "Reviews = amazon_data.Feedback.values"
   ]
  },
  {
   "cell_type": "code",
   "execution_count": 254,
   "id": "e08e77e4",
   "metadata": {},
   "outputs": [
    {
     "data": {
      "text/plain": [
       "numpy.ndarray"
      ]
     },
     "execution_count": 254,
     "metadata": {},
     "output_type": "execute_result"
    }
   ],
   "source": [
    "type(Reviews)"
   ]
  },
  {
   "cell_type": "code",
   "execution_count": 255,
   "id": "9d7db5a8",
   "metadata": {},
   "outputs": [
    {
     "data": {
      "text/plain": [
       "(999,)"
      ]
     },
     "execution_count": 255,
     "metadata": {},
     "output_type": "execute_result"
    }
   ],
   "source": [
    "Reviews.shape"
   ]
  },
  {
   "cell_type": "code",
   "execution_count": 256,
   "id": "ef15ddee",
   "metadata": {},
   "outputs": [
    {
     "data": {
      "text/plain": [
       "array(['good case excellent value', 'great jawbone',\n",
       "       'tied charger conversation last minute major problem', 'mic great',\n",
       "       'jiggle plug line right decent volume'], dtype=object)"
      ]
     },
     "execution_count": 256,
     "metadata": {},
     "output_type": "execute_result"
    }
   ],
   "source": [
    "Reviews[:5]"
   ]
  },
  {
   "cell_type": "code",
   "execution_count": 257,
   "id": "38e41d7b",
   "metadata": {},
   "outputs": [],
   "source": [
    "Sentiments = amazon_data.Sentiment.values"
   ]
  },
  {
   "cell_type": "code",
   "execution_count": 258,
   "id": "68633bae",
   "metadata": {},
   "outputs": [
    {
     "data": {
      "text/plain": [
       "array([1, 1, 0, 1, 0])"
      ]
     },
     "execution_count": 258,
     "metadata": {},
     "output_type": "execute_result"
    }
   ],
   "source": [
    "Sentiments[:5]"
   ]
  },
  {
   "cell_type": "code",
   "execution_count": 259,
   "id": "4646a4c5",
   "metadata": {},
   "outputs": [],
   "source": [
    "positive = []\n",
    "negative = []\n",
    "neutral = []\n",
    "compound = []\n",
    "\n",
    "for review_index in range(Reviews.shape[0]):\n",
    "    score = analyzer.polarity_scores(Reviews[review_index])\n",
    "    positive.append(score[\"pos\"])\n",
    "    negative.append(score[\"neg\"])\n",
    "    neutral.append(score[\"neu\"])\n",
    "    compound.append(score[\"compound\"])"
   ]
  },
  {
   "cell_type": "code",
   "execution_count": 260,
   "id": "7e35dd90",
   "metadata": {},
   "outputs": [
    {
     "data": {
      "text/plain": [
       "(0.31553153153153146,\n",
       " 0.14762162162162165,\n",
       " 0.5358458458458459,\n",
       " 0.16595915915915918)"
      ]
     },
     "execution_count": 260,
     "metadata": {},
     "output_type": "execute_result"
    }
   ],
   "source": [
    "np.mean(np.array(positive)), np.mean(np.array(negative)), np.mean(np.array(neutral)), np.mean(np.array(compound))"
   ]
  },
  {
   "cell_type": "code",
   "execution_count": 261,
   "id": "8f7b5f7f",
   "metadata": {},
   "outputs": [],
   "source": [
    "from sklearn.feature_extraction.text import CountVectorizer, TfidfVectorizer\n",
    "from sklearn.metrics import confusion_matrix, classification_report, accuracy_score\n",
    "from sklearn.ensemble import RandomForestClassifier\n",
    "from sklearn.tree import DecisionTreeClassifier\n",
    "from sklearn.ensemble import GradientBoostingClassifier, AdaBoostClassifier"
   ]
  },
  {
   "cell_type": "code",
   "execution_count": 262,
   "id": "1c97a0e0",
   "metadata": {},
   "outputs": [],
   "source": [
    "from sklearn.model_selection import train_test_split"
   ]
  },
  {
   "cell_type": "code",
   "execution_count": 263,
   "id": "edebde3f",
   "metadata": {},
   "outputs": [],
   "source": [
    "x_train, x_test, y_train, y_test = train_test_split(Reviews, Sentiments, random_state = 5, test_size = 0.25)"
   ]
  },
  {
   "cell_type": "code",
   "execution_count": 264,
   "id": "3e3301df",
   "metadata": {},
   "outputs": [
    {
     "data": {
      "text/plain": [
       "((749,), (749,))"
      ]
     },
     "execution_count": 264,
     "metadata": {},
     "output_type": "execute_result"
    }
   ],
   "source": [
    "x_train.shape, y_train.shape"
   ]
  },
  {
   "cell_type": "code",
   "execution_count": 265,
   "id": "5006c72c",
   "metadata": {},
   "outputs": [
    {
     "data": {
      "text/plain": [
       "('work', 1)"
      ]
     },
     "execution_count": 265,
     "metadata": {},
     "output_type": "execute_result"
    }
   ],
   "source": [
    "x_train[0], y_train[0]"
   ]
  },
  {
   "cell_type": "code",
   "execution_count": 266,
   "id": "ab47c69e",
   "metadata": {},
   "outputs": [
    {
     "data": {
      "text/plain": [
       "'good case excellent value'"
      ]
     },
     "execution_count": 266,
     "metadata": {},
     "output_type": "execute_result"
    }
   ],
   "source": [
    "Reviews[0]"
   ]
  },
  {
   "cell_type": "code",
   "execution_count": 267,
   "id": "cb82b6bd",
   "metadata": {},
   "outputs": [],
   "source": [
    "cv = CountVectorizer()\n",
    "tfidfvec = TfidfVectorizer()"
   ]
  },
  {
   "cell_type": "code",
   "execution_count": 268,
   "id": "ec88a060",
   "metadata": {},
   "outputs": [],
   "source": [
    "cv_sentences = cv.fit_transform(x_train)\n",
    "tfidf_sentences = tfidfvec.fit_transform(x_train)"
   ]
  },
  {
   "cell_type": "code",
   "execution_count": 269,
   "id": "c0bd1b84",
   "metadata": {},
   "outputs": [
    {
     "data": {
      "text/plain": [
       "<749x1130 sparse matrix of type '<class 'numpy.int64'>'\n",
       "\twith 3318 stored elements in Compressed Sparse Row format>"
      ]
     },
     "execution_count": 269,
     "metadata": {},
     "output_type": "execute_result"
    }
   ],
   "source": [
    "cv_sentences"
   ]
  },
  {
   "cell_type": "code",
   "execution_count": 270,
   "id": "35102bcc",
   "metadata": {},
   "outputs": [
    {
     "data": {
      "text/plain": [
       "<749x1130 sparse matrix of type '<class 'numpy.float64'>'\n",
       "\twith 3318 stored elements in Compressed Sparse Row format>"
      ]
     },
     "execution_count": 270,
     "metadata": {},
     "output_type": "execute_result"
    }
   ],
   "source": [
    "tfidf_sentences"
   ]
  },
  {
   "cell_type": "code",
   "execution_count": 271,
   "id": "35022441",
   "metadata": {},
   "outputs": [
    {
     "data": {
      "text/plain": [
       "array([0, 0, 0, ..., 0, 0, 0])"
      ]
     },
     "execution_count": 271,
     "metadata": {},
     "output_type": "execute_result"
    }
   ],
   "source": [
    "cv_sentences.toarray()[0]"
   ]
  },
  {
   "cell_type": "code",
   "execution_count": 272,
   "id": "c650366a",
   "metadata": {},
   "outputs": [
    {
     "data": {
      "text/plain": [
       "array([0., 0., 0., ..., 0., 0., 0.])"
      ]
     },
     "execution_count": 272,
     "metadata": {},
     "output_type": "execute_result"
    }
   ],
   "source": [
    "tfidf_sentences.toarray()[0]"
   ]
  },
  {
   "cell_type": "code",
   "execution_count": 273,
   "id": "e8414488",
   "metadata": {},
   "outputs": [],
   "source": [
    "cv_sentences_test = cv.transform(x_test)\n",
    "tfidf_sentences_test = tfidfvec.transform(x_test)"
   ]
  },
  {
   "cell_type": "code",
   "execution_count": 274,
   "id": "9ca57e1b",
   "metadata": {},
   "outputs": [
    {
     "data": {
      "text/plain": [
       "<250x1130 sparse matrix of type '<class 'numpy.int64'>'\n",
       "\twith 858 stored elements in Compressed Sparse Row format>"
      ]
     },
     "execution_count": 274,
     "metadata": {},
     "output_type": "execute_result"
    }
   ],
   "source": [
    "cv_sentences_test"
   ]
  },
  {
   "cell_type": "code",
   "execution_count": 275,
   "id": "aa3e5468",
   "metadata": {},
   "outputs": [
    {
     "data": {
      "text/plain": [
       "<250x1130 sparse matrix of type '<class 'numpy.float64'>'\n",
       "\twith 858 stored elements in Compressed Sparse Row format>"
      ]
     },
     "execution_count": 275,
     "metadata": {},
     "output_type": "execute_result"
    }
   ],
   "source": [
    "tfidf_sentences_test"
   ]
  },
  {
   "cell_type": "code",
   "execution_count": 276,
   "id": "6c0f5422",
   "metadata": {},
   "outputs": [
    {
     "data": {
      "text/plain": [
       "array([0, 0, 0, ..., 0, 0, 0])"
      ]
     },
     "execution_count": 276,
     "metadata": {},
     "output_type": "execute_result"
    }
   ],
   "source": [
    "cv_sentences_test.toarray()[0]"
   ]
  },
  {
   "cell_type": "code",
   "execution_count": 277,
   "id": "feaa0c46",
   "metadata": {},
   "outputs": [
    {
     "data": {
      "text/plain": [
       "array([0., 0., 0., ..., 0., 0., 0.])"
      ]
     },
     "execution_count": 277,
     "metadata": {},
     "output_type": "execute_result"
    }
   ],
   "source": [
    "tfidf_sentences_test.toarray()[0]"
   ]
  },
  {
   "cell_type": "code",
   "execution_count": 278,
   "id": "e409c80c",
   "metadata": {},
   "outputs": [
    {
     "data": {
      "text/plain": [
       "array([0.        , 0.35204313, 0.42915983, 0.48510183, 0.67569496])"
      ]
     },
     "execution_count": 278,
     "metadata": {},
     "output_type": "execute_result"
    }
   ],
   "source": [
    "np.unique(tfidf_sentences_test.toarray()[101])"
   ]
  },
  {
   "cell_type": "code",
   "execution_count": 279,
   "id": "eafa7df6",
   "metadata": {},
   "outputs": [
    {
     "data": {
      "text/plain": [
       "array([0, 1, 2])"
      ]
     },
     "execution_count": 279,
     "metadata": {},
     "output_type": "execute_result"
    }
   ],
   "source": [
    "np.unique(cv_sentences_test.toarray()[101])"
   ]
  },
  {
   "cell_type": "markdown",
   "id": "6b1b2497",
   "metadata": {},
   "source": [
    "## Model Implementation!"
   ]
  },
  {
   "cell_type": "code",
   "execution_count": 280,
   "id": "636b3eee",
   "metadata": {},
   "outputs": [],
   "source": [
    "RFC = RandomForestClassifier()\n",
    "DTC = DecisionTreeClassifier()\n",
    "GBC = GradientBoostingClassifier()\n",
    "ABC = AdaBoostClassifier()"
   ]
  },
  {
   "cell_type": "code",
   "execution_count": 281,
   "id": "12427999",
   "metadata": {},
   "outputs": [
    {
     "data": {
      "text/plain": [
       "AdaBoostClassifier()"
      ]
     },
     "execution_count": 281,
     "metadata": {},
     "output_type": "execute_result"
    }
   ],
   "source": [
    "RFC.fit(cv_sentences, y_train)\n",
    "DTC.fit(cv_sentences, y_train)\n",
    "GBC.fit(cv_sentences, y_train)\n",
    "ABC.fit(cv_sentences, y_train)"
   ]
  },
  {
   "cell_type": "code",
   "execution_count": 282,
   "id": "aaa95cae",
   "metadata": {},
   "outputs": [
    {
     "data": {
      "text/plain": [
       "array([0, 1])"
      ]
     },
     "execution_count": 282,
     "metadata": {},
     "output_type": "execute_result"
    }
   ],
   "source": [
    "RFC.classes_"
   ]
  },
  {
   "cell_type": "code",
   "execution_count": 283,
   "id": "c66c4fd6",
   "metadata": {},
   "outputs": [
    {
     "data": {
      "text/plain": [
       "{'bootstrap': True,\n",
       " 'ccp_alpha': 0.0,\n",
       " 'class_weight': None,\n",
       " 'criterion': 'gini',\n",
       " 'max_depth': None,\n",
       " 'max_features': 'auto',\n",
       " 'max_leaf_nodes': None,\n",
       " 'max_samples': None,\n",
       " 'min_impurity_decrease': 0.0,\n",
       " 'min_impurity_split': None,\n",
       " 'min_samples_leaf': 1,\n",
       " 'min_samples_split': 2,\n",
       " 'min_weight_fraction_leaf': 0.0,\n",
       " 'n_estimators': 100,\n",
       " 'n_jobs': None,\n",
       " 'oob_score': False,\n",
       " 'random_state': None,\n",
       " 'verbose': 0,\n",
       " 'warm_start': False}"
      ]
     },
     "execution_count": 283,
     "metadata": {},
     "output_type": "execute_result"
    }
   ],
   "source": [
    "RFC.get_params()"
   ]
  },
  {
   "cell_type": "code",
   "execution_count": 284,
   "id": "8b2004d2",
   "metadata": {},
   "outputs": [],
   "source": [
    "y_pred_RFC = RFC.predict(cv_sentences_test)\n",
    "y_pred_DTC = DTC.predict(cv_sentences_test)\n",
    "y_pred_GBC = GBC.predict(cv_sentences_test)\n",
    "y_pred_ABC = ABC.predict(cv_sentences_test)"
   ]
  },
  {
   "cell_type": "code",
   "execution_count": 285,
   "id": "0efd7937",
   "metadata": {},
   "outputs": [],
   "source": [
    "cv_acuuracy_scores = {\n",
    "                        \"Random Forest\" : accuracy_score(y_test, y_pred_RFC),\n",
    "                        \"Decision Tree\" : accuracy_score(y_test, y_pred_DTC),\n",
    "                        \"Gradient Boosting\" : accuracy_score(y_test, y_pred_GBC),\n",
    "                        \"Ada Boost\" : accuracy_score(y_test, y_pred_ABC)\n",
    "                     }"
   ]
  },
  {
   "cell_type": "code",
   "execution_count": 286,
   "id": "3656ff2e",
   "metadata": {},
   "outputs": [
    {
     "data": {
      "text/plain": [
       "{'Random Forest': 0.756,\n",
       " 'Decision Tree': 0.716,\n",
       " 'Gradient Boosting': 0.776,\n",
       " 'Ada Boost': 0.772}"
      ]
     },
     "execution_count": 286,
     "metadata": {},
     "output_type": "execute_result"
    }
   ],
   "source": [
    "cv_acuuracy_scores"
   ]
  },
  {
   "cell_type": "code",
   "execution_count": 300,
   "id": "46f1fae1",
   "metadata": {},
   "outputs": [],
   "source": [
    "cv_accuracy_scores_DF = pd.DataFrame(\n",
    "                                     cv_final_data,\n",
    "                                     columns = [\"Algorithm\", \"Accuracy Scores\"],\n",
    "                                    )"
   ]
  },
  {
   "cell_type": "code",
   "execution_count": 295,
   "id": "e5cf7b17",
   "metadata": {},
   "outputs": [],
   "source": [
    "algos = list(cv_acuuracy_scores.keys())\n",
    "ac_values = list(cv_acuuracy_scores.values())"
   ]
  },
  {
   "cell_type": "code",
   "execution_count": 296,
   "id": "da27ac76",
   "metadata": {},
   "outputs": [],
   "source": [
    "algos = np.array(algos)\n",
    "ac_values = np.array(ac_values)"
   ]
  },
  {
   "cell_type": "code",
   "execution_count": 298,
   "id": "084abfa6",
   "metadata": {},
   "outputs": [],
   "source": [
    "cv_final_data = np.hstack((algos, ac_values))"
   ]
  },
  {
   "cell_type": "code",
   "execution_count": 299,
   "id": "df682513",
   "metadata": {},
   "outputs": [
    {
     "data": {
      "text/plain": [
       "(4, 2)"
      ]
     },
     "execution_count": 299,
     "metadata": {},
     "output_type": "execute_result"
    }
   ],
   "source": [
    "cv_final_data.shape"
   ]
  },
  {
   "cell_type": "code",
   "execution_count": 297,
   "id": "965a049f",
   "metadata": {},
   "outputs": [],
   "source": [
    "algos = algos.reshape(4, 1)\n",
    "ac_values = ac_values.reshape(4, 1)"
   ]
  },
  {
   "cell_type": "code",
   "execution_count": 292,
   "id": "707dd338",
   "metadata": {},
   "outputs": [
    {
     "data": {
      "text/plain": [
       "0.756"
      ]
     },
     "execution_count": 292,
     "metadata": {},
     "output_type": "execute_result"
    }
   ],
   "source": [
    "ac_values[0][0]"
   ]
  },
  {
   "cell_type": "code",
   "execution_count": 301,
   "id": "a6201d9c",
   "metadata": {},
   "outputs": [],
   "source": [
    "cv_accuracy_scores_DF[\"Accuracy Scores\"] = cv_accuracy_scores_DF[\"Accuracy Scores\"].map(lambda x: float(x))"
   ]
  },
  {
   "cell_type": "code",
   "execution_count": 302,
   "id": "54cb02b5",
   "metadata": {},
   "outputs": [
    {
     "data": {
      "text/html": [
       "<div>\n",
       "<style scoped>\n",
       "    .dataframe tbody tr th:only-of-type {\n",
       "        vertical-align: middle;\n",
       "    }\n",
       "\n",
       "    .dataframe tbody tr th {\n",
       "        vertical-align: top;\n",
       "    }\n",
       "\n",
       "    .dataframe thead th {\n",
       "        text-align: right;\n",
       "    }\n",
       "</style>\n",
       "<table border=\"1\" class=\"dataframe\">\n",
       "  <thead>\n",
       "    <tr style=\"text-align: right;\">\n",
       "      <th></th>\n",
       "      <th>Algorithm</th>\n",
       "      <th>Accuracy Scores</th>\n",
       "    </tr>\n",
       "  </thead>\n",
       "  <tbody>\n",
       "    <tr>\n",
       "      <th>0</th>\n",
       "      <td>Random Forest</td>\n",
       "      <td>0.756</td>\n",
       "    </tr>\n",
       "    <tr>\n",
       "      <th>1</th>\n",
       "      <td>Decision Tree</td>\n",
       "      <td>0.716</td>\n",
       "    </tr>\n",
       "    <tr>\n",
       "      <th>2</th>\n",
       "      <td>Gradient Boosting</td>\n",
       "      <td>0.776</td>\n",
       "    </tr>\n",
       "    <tr>\n",
       "      <th>3</th>\n",
       "      <td>Ada Boost</td>\n",
       "      <td>0.772</td>\n",
       "    </tr>\n",
       "  </tbody>\n",
       "</table>\n",
       "</div>"
      ],
      "text/plain": [
       "           Algorithm  Accuracy Scores\n",
       "0      Random Forest            0.756\n",
       "1      Decision Tree            0.716\n",
       "2  Gradient Boosting            0.776\n",
       "3          Ada Boost            0.772"
      ]
     },
     "execution_count": 302,
     "metadata": {},
     "output_type": "execute_result"
    }
   ],
   "source": [
    "cv_accuracy_scores_DF"
   ]
  },
  {
   "cell_type": "code",
   "execution_count": 303,
   "id": "2ed06f33",
   "metadata": {},
   "outputs": [
    {
     "data": {
      "image/png": "[encoded data removed]",
      "text/plain": [
       "<Figure size 1080x648 with 1 Axes>"
      ]
     },
     "metadata": {
      "needs_background": "light"
     },
     "output_type": "display_data"
    }
   ],
   "source": [
    "plt.figure(figsize = (15, 9))\n",
    "plt.bar(x = cv_accuracy_scores_DF.Algorithm, height = cv_accuracy_scores_DF[\"Accuracy Scores\"])\n",
    "# plt.ylim(0, 1)\n",
    "plt.xlabel(\"Algorithms\", fontsize = 35)\n",
    "plt.ylabel(\"Accuracy\", fontsize = 35)\n",
    "plt.title(\"Accuracy Score Graph for Different Algorithms!\", fontsize = 35)\n",
    "plt.show()"
   ]
  },
  {
   "cell_type": "code",
   "execution_count": 304,
   "id": "5ed900b1",
   "metadata": {},
   "outputs": [
    {
     "name": "stdout",
     "output_type": "stream",
     "text": [
      "              precision    recall  f1-score   support\n",
      "\n",
      "           0       0.83      0.67      0.74       132\n",
      "           1       0.70      0.85      0.77       118\n",
      "\n",
      "    accuracy                           0.76       250\n",
      "   macro avg       0.77      0.76      0.76       250\n",
      "weighted avg       0.77      0.76      0.75       250\n",
      "\n"
     ]
    }
   ],
   "source": [
    "print(classification_report(y_test, y_pred_RFC))"
   ]
  },
  {
   "cell_type": "code",
   "execution_count": 305,
   "id": "6166dad7",
   "metadata": {},
   "outputs": [
    {
     "name": "stdout",
     "output_type": "stream",
     "text": [
      "              precision    recall  f1-score   support\n",
      "\n",
      "           0       0.74      0.87      0.80       132\n",
      "           1       0.82      0.66      0.73       118\n",
      "\n",
      "    accuracy                           0.77       250\n",
      "   macro avg       0.78      0.77      0.77       250\n",
      "weighted avg       0.78      0.77      0.77       250\n",
      "\n"
     ]
    }
   ],
   "source": [
    "print(classification_report(y_test, y_pred_ABC))"
   ]
  },
  {
   "cell_type": "code",
   "execution_count": 306,
   "id": "92f82304",
   "metadata": {},
   "outputs": [
    {
     "name": "stdout",
     "output_type": "stream",
     "text": [
      "              precision    recall  f1-score   support\n",
      "\n",
      "           0       0.74      0.89      0.81       132\n",
      "           1       0.84      0.65      0.73       118\n",
      "\n",
      "    accuracy                           0.78       250\n",
      "   macro avg       0.79      0.77      0.77       250\n",
      "weighted avg       0.79      0.78      0.77       250\n",
      "\n"
     ]
    }
   ],
   "source": [
    "print(classification_report(y_test, y_pred_GBC))"
   ]
  },
  {
   "cell_type": "code",
   "execution_count": 307,
   "id": "3b355c70",
   "metadata": {},
   "outputs": [
    {
     "name": "stdout",
     "output_type": "stream",
     "text": [
      "              precision    recall  f1-score   support\n",
      "\n",
      "           0       0.79      0.63      0.70       132\n",
      "           1       0.66      0.81      0.73       118\n",
      "\n",
      "    accuracy                           0.72       250\n",
      "   macro avg       0.73      0.72      0.72       250\n",
      "weighted avg       0.73      0.72      0.71       250\n",
      "\n"
     ]
    }
   ],
   "source": [
    "print(classification_report(y_test, y_pred_DTC))"
   ]
  },
  {
   "cell_type": "code",
   "execution_count": 308,
   "id": "4a5e3569",
   "metadata": {},
   "outputs": [],
   "source": [
    "dtc_cf = confusion_matrix(y_test, y_pred_DTC)"
   ]
  },
  {
   "cell_type": "code",
   "execution_count": 309,
   "id": "50069aa5",
   "metadata": {},
   "outputs": [],
   "source": [
    "abc_cf = confusion_matrix(y_test, y_pred_ABC)"
   ]
  },
  {
   "cell_type": "code",
   "execution_count": 310,
   "id": "a09ab0ce",
   "metadata": {},
   "outputs": [],
   "source": [
    "gbc_cf = confusion_matrix(y_test, y_pred_GBC)"
   ]
  },
  {
   "cell_type": "code",
   "execution_count": 311,
   "id": "8c49d4f0",
   "metadata": {},
   "outputs": [],
   "source": [
    "rfc_cf = confusion_matrix(y_test, y_pred_RFC)"
   ]
  },
  {
   "cell_type": "code",
   "execution_count": 312,
   "id": "d60b3669",
   "metadata": {},
   "outputs": [
    {
     "data": {
      "image/png": "[encoded data removed]",
      "text/plain": [
       "<Figure size 1080x648 with 1 Axes>"
      ]
     },
     "metadata": {
      "needs_background": "light"
     },
     "output_type": "display_data"
    }
   ],
   "source": [
    "plt.figure(figsize = (15, 9))\n",
    "sns.heatmap(dtc_cf, annot = True, cbar = False)\n",
    "plt.show()"
   ]
  },
  {
   "cell_type": "code",
   "execution_count": 313,
   "id": "a55b7d49",
   "metadata": {},
   "outputs": [
    {
     "data": {
      "image/png": "[encoded data removed]",
      "text/plain": [
       "<Figure size 1080x648 with 1 Axes>"
      ]
     },
     "metadata": {
      "needs_background": "light"
     },
     "output_type": "display_data"
    }
   ],
   "source": [
    "plt.figure(figsize = (15, 9))\n",
    "sns.heatmap(rfc_cf, annot = True, cbar = False)\n",
    "plt.show()"
   ]
  },
  {
   "cell_type": "code",
   "execution_count": 314,
   "id": "677747cd",
   "metadata": {},
   "outputs": [
    {
     "data": {
      "image/png": "[encoded data removed]",
      "text/plain": [
       "<Figure size 1080x648 with 1 Axes>"
      ]
     },
     "metadata": {
      "needs_background": "light"
     },
     "output_type": "display_data"
    }
   ],
   "source": [
    "plt.figure(figsize = (15, 9))\n",
    "sns.heatmap(gbc_cf, annot = True, cbar = False)\n",
    "plt.show()"
   ]
  },
  {
   "cell_type": "code",
   "execution_count": 315,
   "id": "98de7f37",
   "metadata": {},
   "outputs": [
    {
     "data": {
      "image/png": "[encoded data removed]",
      "text/plain": [
       "<Figure size 1080x648 with 1 Axes>"
      ]
     },
     "metadata": {
      "needs_background": "light"
     },
     "output_type": "display_data"
    }
   ],
   "source": [
    "plt.figure(figsize = (15, 9))\n",
    "sns.heatmap(abc_cf, annot = True, cbar = False)\n",
    "plt.show()"
   ]
  },
  {
   "cell_type": "markdown",
   "id": "8482648e",
   "metadata": {},
   "source": [
    "## Topic Modelling"
   ]
  },
  {
   "cell_type": "code",
   "execution_count": 316,
   "id": "d7795202",
   "metadata": {},
   "outputs": [],
   "source": [
    "from sklearn.decomposition import LatentDirichletAllocation # (LDA)"
   ]
  },
  {
   "cell_type": "code",
   "execution_count": 317,
   "id": "8792841e",
   "metadata": {},
   "outputs": [
    {
     "data": {
      "text/plain": [
       "<749x1130 sparse matrix of type '<class 'numpy.int64'>'\n",
       "\twith 3318 stored elements in Compressed Sparse Row format>"
      ]
     },
     "execution_count": 317,
     "metadata": {},
     "output_type": "execute_result"
    }
   ],
   "source": [
    "cv_sentences"
   ]
  },
  {
   "cell_type": "code",
   "execution_count": 318,
   "id": "cc7665c3",
   "metadata": {},
   "outputs": [],
   "source": [
    "LDA = LatentDirichletAllocation(n_components = 5)"
   ]
  },
  {
   "cell_type": "code",
   "execution_count": 319,
   "id": "ed41ec9e",
   "metadata": {},
   "outputs": [
    {
     "data": {
      "text/plain": [
       "LatentDirichletAllocation(n_components=5)"
      ]
     },
     "execution_count": 319,
     "metadata": {},
     "output_type": "execute_result"
    }
   ],
   "source": [
    "LDA.fit(cv_sentences)"
   ]
  },
  {
   "cell_type": "code",
   "execution_count": 330,
   "id": "1d984ceb",
   "metadata": {},
   "outputs": [
    {
     "data": {
      "text/plain": [
       "['10',\n",
       " '2mp',\n",
       " '42',\n",
       " '700w',\n",
       " 'abhor',\n",
       " 'ability',\n",
       " 'able',\n",
       " 'abound',\n",
       " 'absolutel',\n",
       " 'absolutely',\n",
       " 'accept',\n",
       " 'acceptable',\n",
       " 'access',\n",
       " 'accessable',\n",
       " 'accessory',\n",
       " 'accessoryone',\n",
       " 'accidentally',\n",
       " 'accompany',\n",
       " 'accord',\n",
       " 'activate',\n",
       " 'activesync',\n",
       " 'actually',\n",
       " 'ad',\n",
       " 'adapter',\n",
       " 'add',\n",
       " 'addition',\n",
       " 'additional',\n",
       " 'address',\n",
       " 'adhesive',\n",
       " 'adorable',\n",
       " 'advertise',\n",
       " 'advise',\n",
       " 'aggravate',\n",
       " 'ago',\n",
       " 'alarm',\n",
       " 'allot',\n",
       " 'allow',\n",
       " 'alot',\n",
       " 'amazed',\n",
       " 'amazing',\n",
       " 'amazon',\n",
       " 'ample',\n",
       " 'angle',\n",
       " 'answer',\n",
       " 'ant',\n",
       " 'antena',\n",
       " 'anti',\n",
       " 'apartment',\n",
       " 'apparently',\n",
       " 'appeal',\n",
       " 'appear',\n",
       " 'applifie',\n",
       " 'area',\n",
       " 'argue',\n",
       " 'armband',\n",
       " 'arrival',\n",
       " 'arrive',\n",
       " 'asia',\n",
       " 'ask',\n",
       " 'aspect',\n",
       " 'assume',\n",
       " 'att',\n",
       " 'attractive',\n",
       " 'audio',\n",
       " 'auto',\n",
       " 'available',\n",
       " 'average',\n",
       " 'avoid',\n",
       " 'away',\n",
       " 'awesome',\n",
       " 'awful',\n",
       " 'awkward',\n",
       " 'background',\n",
       " 'backlight',\n",
       " 'bad',\n",
       " 'balance',\n",
       " 'bar',\n",
       " 'barely',\n",
       " 'bargain',\n",
       " 'basement',\n",
       " 'basic',\n",
       " 'basically',\n",
       " 'battery',\n",
       " 'be',\n",
       " 'beat',\n",
       " 'beautiful',\n",
       " 'bed',\n",
       " 'beep',\n",
       " 'belt',\n",
       " 'bend',\n",
       " 'best',\n",
       " 'beware',\n",
       " 'big',\n",
       " 'bill',\n",
       " 'bit',\n",
       " 'bitpim',\n",
       " 'black',\n",
       " 'blackberry',\n",
       " 'blacktop',\n",
       " 'blue',\n",
       " 'blueant',\n",
       " 'bluetoooth',\n",
       " 'bluetooth',\n",
       " 'bmw',\n",
       " 'book',\n",
       " 'booking',\n",
       " 'boost',\n",
       " 'boot',\n",
       " 'bose',\n",
       " 'bother',\n",
       " 'bought',\n",
       " 'boy',\n",
       " 'brand',\n",
       " 'break',\n",
       " 'breakage',\n",
       " 'brilliant',\n",
       " 'broke',\n",
       " 'browser',\n",
       " 'browsing',\n",
       " 'bt',\n",
       " 'bt250v',\n",
       " 'bt50',\n",
       " 'buck',\n",
       " 'bud',\n",
       " 'build',\n",
       " 'bulky',\n",
       " 'bumper',\n",
       " 'button',\n",
       " 'buy',\n",
       " 'buyer',\n",
       " 'buying',\n",
       " 'buzzing',\n",
       " 'ca',\n",
       " 'cable',\n",
       " 'calendar',\n",
       " 'call',\n",
       " 'calls',\n",
       " 'camera',\n",
       " 'canal',\n",
       " 'cancel',\n",
       " 'cancellation',\n",
       " 'capacity',\n",
       " 'car',\n",
       " 'card',\n",
       " 'care',\n",
       " 'careful',\n",
       " 'carry',\n",
       " 'case',\n",
       " 'catch',\n",
       " 'cause',\n",
       " 'cbr',\n",
       " 'cds',\n",
       " 'cell',\n",
       " 'cellphone',\n",
       " 'cellular',\n",
       " 'cent',\n",
       " 'center',\n",
       " 'certainly',\n",
       " 'charge',\n",
       " 'charger',\n",
       " 'charges',\n",
       " 'charm',\n",
       " 'cheap',\n",
       " 'cheapy',\n",
       " 'check',\n",
       " 'child',\n",
       " 'china',\n",
       " 'chinese',\n",
       " 'choice',\n",
       " 'christmas',\n",
       " 'cingulair',\n",
       " 'cingular',\n",
       " 'clarity',\n",
       " 'clear',\n",
       " 'clearly',\n",
       " 'clever',\n",
       " 'click',\n",
       " 'clip',\n",
       " 'clock',\n",
       " 'colleague',\n",
       " 'color',\n",
       " 'colored',\n",
       " 'combination',\n",
       " 'come',\n",
       " 'comfort',\n",
       " 'comfortable',\n",
       " 'comfortably',\n",
       " 'comment',\n",
       " 'commercial',\n",
       " 'communicate',\n",
       " 'communication',\n",
       " 'commuter',\n",
       " 'company',\n",
       " 'comparably',\n",
       " 'compare',\n",
       " 'compete',\n",
       " 'competitor',\n",
       " 'complain',\n",
       " 'complaint',\n",
       " 'completely',\n",
       " 'compliment',\n",
       " 'compromise',\n",
       " 'computer',\n",
       " 'concrete',\n",
       " 'condition',\n",
       " 'confortable',\n",
       " 'confuse',\n",
       " 'connect',\n",
       " 'connected',\n",
       " 'connection',\n",
       " 'constantly',\n",
       " 'construct',\n",
       " 'construction',\n",
       " 'consumer',\n",
       " 'contact',\n",
       " 'continue',\n",
       " 'contract',\n",
       " 'control',\n",
       " 'contstruct',\n",
       " 'convenient',\n",
       " 'conversation',\n",
       " 'cool',\n",
       " 'copier',\n",
       " 'copy',\n",
       " 'corded',\n",
       " 'correctly',\n",
       " 'cost',\n",
       " 'counter',\n",
       " 'counterfeit',\n",
       " 'couple',\n",
       " 'coupon',\n",
       " 'cover',\n",
       " 'coverage',\n",
       " 'crack',\n",
       " 'cradle',\n",
       " 'crap',\n",
       " 'crappy',\n",
       " 'crash',\n",
       " 'creak',\n",
       " 'crisp',\n",
       " 'current',\n",
       " 'currently',\n",
       " 'customer',\n",
       " 'cut',\n",
       " 'cute',\n",
       " 'cutouts',\n",
       " 'd807',\n",
       " 'darn',\n",
       " 'data',\n",
       " 'date',\n",
       " 'datum',\n",
       " 'day',\n",
       " 'dead',\n",
       " 'deal',\n",
       " 'decade',\n",
       " 'decent',\n",
       " 'decision',\n",
       " 'defeat',\n",
       " 'defect',\n",
       " 'deffinitely',\n",
       " 'definitely',\n",
       " 'definitly',\n",
       " 'delay',\n",
       " 'delivery',\n",
       " 'describe',\n",
       " 'description',\n",
       " 'design',\n",
       " 'despite',\n",
       " 'destination',\n",
       " 'detachable',\n",
       " 'detailed',\n",
       " 'device',\n",
       " 'dialing',\n",
       " 'die',\n",
       " 'different',\n",
       " 'difficult',\n",
       " 'direct',\n",
       " 'direction',\n",
       " 'dirty',\n",
       " 'disapoinment',\n",
       " 'disappoint',\n",
       " 'disappointed',\n",
       " 'disappointing',\n",
       " 'disappointment',\n",
       " 'discomfort',\n",
       " 'disconnect',\n",
       " 'disgust',\n",
       " 'display',\n",
       " 'dissapointe',\n",
       " 'distorted',\n",
       " 'distracting',\n",
       " 'dit',\n",
       " 'dna',\n",
       " 'docking',\n",
       " 'dollar',\n",
       " 'double',\n",
       " 'download',\n",
       " 'dozen',\n",
       " 'drain',\n",
       " 'drawback',\n",
       " 'drive',\n",
       " 'drivng',\n",
       " 'drop',\n",
       " 'dual',\n",
       " 'durable',\n",
       " 'e2',\n",
       " 'e715',\n",
       " 'ear',\n",
       " 'earbud',\n",
       " 'earbug',\n",
       " 'eargels',\n",
       " 'early',\n",
       " 'earphone',\n",
       " 'earpiece',\n",
       " 'earset',\n",
       " 'ease',\n",
       " 'easily',\n",
       " 'easy',\n",
       " 'echo',\n",
       " 'edge',\n",
       " 'effect',\n",
       " 'effective',\n",
       " 'effort',\n",
       " 'electronic',\n",
       " 'embarassing',\n",
       " 'embarrassing',\n",
       " 'embed',\n",
       " 'encourage',\n",
       " 'end',\n",
       " 'engineer',\n",
       " 'enjoy',\n",
       " 'enter',\n",
       " 'entertainment',\n",
       " 'equipment',\n",
       " 'era',\n",
       " 'ericson',\n",
       " 'especially',\n",
       " 'essentially',\n",
       " 'etc',\n",
       " 'europe',\n",
       " 'eventually',\n",
       " 'everyday',\n",
       " 'exactly',\n",
       " 'exceed',\n",
       " 'excel',\n",
       " 'excelent',\n",
       " 'excellent',\n",
       " 'exchange',\n",
       " 'excite',\n",
       " 'excited',\n",
       " 'exercise',\n",
       " 'exist',\n",
       " 'expect',\n",
       " 'expectation',\n",
       " 'expensive',\n",
       " 'experience',\n",
       " 'explain',\n",
       " 'extend',\n",
       " 'extended',\n",
       " 'exterior',\n",
       " 'extra',\n",
       " 'extremely',\n",
       " 'eye',\n",
       " 'face',\n",
       " 'factor',\n",
       " 'fail',\n",
       " 'fairly',\n",
       " 'fall',\n",
       " 'family',\n",
       " 'fantastic',\n",
       " 'far',\n",
       " 'fast',\n",
       " 'father',\n",
       " 'feature',\n",
       " 'features',\n",
       " 'feel',\n",
       " 'fi',\n",
       " 'figure',\n",
       " 'file',\n",
       " 'finally',\n",
       " 'find',\n",
       " 'fine',\n",
       " 'finger',\n",
       " 'fire',\n",
       " 'fit',\n",
       " 'fixes',\n",
       " 'flash',\n",
       " 'flaw',\n",
       " 'flawed',\n",
       " 'flawless',\n",
       " 'flawlessly',\n",
       " 'flimsy',\n",
       " 'flip',\n",
       " 'flipphone',\n",
       " 'fliptop',\n",
       " 'floor',\n",
       " 'floppy',\n",
       " 'flops',\n",
       " 'flush',\n",
       " 'fm',\n",
       " 'follow',\n",
       " 'fool',\n",
       " 'foot',\n",
       " 'forever',\n",
       " 'forgery',\n",
       " 'forget',\n",
       " 'form',\n",
       " 'fraction',\n",
       " 'free',\n",
       " 'freedom',\n",
       " 'freeway',\n",
       " 'freezes',\n",
       " 'frequently4',\n",
       " 'friend',\n",
       " 'friendly',\n",
       " 'frog',\n",
       " 'frustration',\n",
       " 'fulfill',\n",
       " 'fully',\n",
       " 'fun',\n",
       " 'function',\n",
       " 'functionality',\n",
       " 'funny',\n",
       " 'gadget',\n",
       " 'game',\n",
       " 'garbage',\n",
       " 'geeky',\n",
       " 'gel',\n",
       " 'generally',\n",
       " 'gentle',\n",
       " 'get',\n",
       " 'girl',\n",
       " 'give',\n",
       " 'giving',\n",
       " 'glad',\n",
       " 'glare',\n",
       " 'glass',\n",
       " 'glove',\n",
       " 'go',\n",
       " 'gon',\n",
       " 'good',\n",
       " 'good7',\n",
       " 'great',\n",
       " 'grey',\n",
       " 'grip',\n",
       " 'guess',\n",
       " 'gx2',\n",
       " 'h500',\n",
       " 'hair',\n",
       " 'hand',\n",
       " 'handsfree',\n",
       " 'handy',\n",
       " 'happen',\n",
       " 'happier',\n",
       " 'happy',\n",
       " 'hard',\n",
       " 'hardly',\n",
       " 'hat',\n",
       " 'hate',\n",
       " 'have',\n",
       " 'headband',\n",
       " 'headphone',\n",
       " 'headset',\n",
       " 'headsets',\n",
       " 'hear',\n",
       " 'heavy',\n",
       " 'help',\n",
       " 'helpful',\n",
       " 'high',\n",
       " 'highly',\n",
       " 'hinge',\n",
       " 'hit',\n",
       " 'hitch',\n",
       " 'hold',\n",
       " 'holder',\n",
       " 'holding',\n",
       " 'holster',\n",
       " 'home',\n",
       " 'hook',\n",
       " 'hope',\n",
       " 'horrible',\n",
       " 'hot',\n",
       " 'hour',\n",
       " 'hoursthe',\n",
       " 'house',\n",
       " 'hs850',\n",
       " 'huge',\n",
       " 'human',\n",
       " 'humming',\n",
       " 'hurt',\n",
       " 'hybrid',\n",
       " 'hype',\n",
       " 'ideal',\n",
       " 'igo',\n",
       " 'ill',\n",
       " 'image',\n",
       " 'imagine',\n",
       " 'immediately',\n",
       " 'important',\n",
       " 'impossible',\n",
       " 'impress',\n",
       " 'impressed',\n",
       " 'impressive',\n",
       " 'improvement',\n",
       " 'inches',\n",
       " 'include',\n",
       " 'incoming',\n",
       " 'inconspicuous',\n",
       " 'incredible',\n",
       " 'industrial',\n",
       " 'inexpensive',\n",
       " 'infatuate',\n",
       " 'infra',\n",
       " 'infuriate',\n",
       " 'inside',\n",
       " 'instead',\n",
       " 'instruction',\n",
       " 'integrate',\n",
       " 'intend',\n",
       " 'interested',\n",
       " 'interface',\n",
       " 'intermittently',\n",
       " 'internet',\n",
       " 'invent',\n",
       " 'investment',\n",
       " 'iphone',\n",
       " 'ipod',\n",
       " 'ipods',\n",
       " 'irda',\n",
       " 'iriver',\n",
       " 'issue',\n",
       " 'item',\n",
       " 'jabra',\n",
       " 'jack',\n",
       " 'jawbone',\n",
       " 'jiggle',\n",
       " 'job',\n",
       " 'joke',\n",
       " 'joy',\n",
       " 'junk',\n",
       " 'jx',\n",
       " 'keen',\n",
       " 'keep',\n",
       " 'key',\n",
       " 'keyboard',\n",
       " 'keypad',\n",
       " 'keypads',\n",
       " 'kind',\n",
       " 'kindle',\n",
       " 'kit',\n",
       " 'kitchen',\n",
       " 'knock',\n",
       " 'know',\n",
       " 'lacking',\n",
       " 'large',\n",
       " 'last',\n",
       " 'latch',\n",
       " 'lately',\n",
       " 'later',\n",
       " 'laughing',\n",
       " 'leaf',\n",
       " 'learn',\n",
       " 'leather',\n",
       " 'leave',\n",
       " 'left',\n",
       " 'lense',\n",
       " 'leopard',\n",
       " 'lesson',\n",
       " 'let',\n",
       " 'lg',\n",
       " 'life',\n",
       " 'light',\n",
       " 'lightweight',\n",
       " 'like',\n",
       " 'line',\n",
       " 'link',\n",
       " 'linksys',\n",
       " 'listen',\n",
       " 'literally',\n",
       " 'little',\n",
       " 'load',\n",
       " 'lock',\n",
       " 'logitech',\n",
       " 'long',\n",
       " 'longer',\n",
       " 'look',\n",
       " 'loop',\n",
       " 'loos',\n",
       " 'loose',\n",
       " 'lose',\n",
       " 'lot',\n",
       " 'loud',\n",
       " 'loudspeaker',\n",
       " 'love',\n",
       " 'low',\n",
       " 'machine',\n",
       " 'magical',\n",
       " 'mail',\n",
       " 'mainly',\n",
       " 'maintain',\n",
       " 'major',\n",
       " 'majority',\n",
       " 'make',\n",
       " 'manage',\n",
       " 'management',\n",
       " 'manual',\n",
       " 'manufacturer',\n",
       " 'market',\n",
       " 'match',\n",
       " 'material',\n",
       " 'max',\n",
       " 'mean',\n",
       " 'mechanism',\n",
       " 'medium',\n",
       " 'mega',\n",
       " 'megapixel',\n",
       " 'memory',\n",
       " 'mention',\n",
       " 'menu',\n",
       " 'mess',\n",
       " 'message',\n",
       " 'messaging',\n",
       " 'messes',\n",
       " 'metal',\n",
       " 'mic',\n",
       " 'microphone',\n",
       " 'mind',\n",
       " 'mini',\n",
       " 'mins',\n",
       " 'minute',\n",
       " 'mislead',\n",
       " 'mistake',\n",
       " 'mobile',\n",
       " 'mode',\n",
       " 'model',\n",
       " 'modest',\n",
       " 'money',\n",
       " 'monkeys',\n",
       " 'month',\n",
       " 'morning',\n",
       " 'moto',\n",
       " 'motor',\n",
       " 'motorola',\n",
       " 'moving',\n",
       " 'mp3',\n",
       " 'mp3s',\n",
       " 'muffle',\n",
       " 'music',\n",
       " 'mute',\n",
       " 'na',\n",
       " 'navigate',\n",
       " 'near',\n",
       " 'nearly',\n",
       " 'neat',\n",
       " 'need',\n",
       " 'needless',\n",
       " 'negatively',\n",
       " 'network',\n",
       " 'new',\n",
       " 'ngage',\n",
       " 'nice',\n",
       " 'nicer',\n",
       " 'night',\n",
       " 'nightmare',\n",
       " 'noise',\n",
       " 'nokia',\n",
       " 'normal',\n",
       " 'note',\n",
       " 'notice',\n",
       " 'nt',\n",
       " 'number',\n",
       " 'numerous',\n",
       " 'nyc',\n",
       " 'obviously',\n",
       " 'occupy',\n",
       " 'odd',\n",
       " 'of',\n",
       " 'off',\n",
       " 'offer',\n",
       " 'oh',\n",
       " 'ok',\n",
       " 'old',\n",
       " 'one',\n",
       " 'online',\n",
       " 'ooze',\n",
       " 'open',\n",
       " 'operate',\n",
       " 'optimal',\n",
       " 'option',\n",
       " 'order',\n",
       " 'original',\n",
       " 'outgoing',\n",
       " 'outlet',\n",
       " 'outperform',\n",
       " 'outside',\n",
       " 'overall',\n",
       " 'overly',\n",
       " 'overnight',\n",
       " 'override',\n",
       " 'own',\n",
       " 'owner',\n",
       " 'package',\n",
       " 'painful',\n",
       " 'pair',\n",
       " 'palm',\n",
       " 'palmtop',\n",
       " 'pant',\n",
       " 'particular',\n",
       " 'party',\n",
       " 'patient',\n",
       " 'pause',\n",
       " 'pay',\n",
       " 'pc',\n",
       " 'pda',\n",
       " 'peachy',\n",
       " 'people',\n",
       " 'perfectly',\n",
       " 'perform',\n",
       " 'performance',\n",
       " 'period',\n",
       " 'periodically',\n",
       " 'person',\n",
       " 'petroleum',\n",
       " 'phone',\n",
       " 'photo',\n",
       " 'pic',\n",
       " 'picture',\n",
       " 'pictures',\n",
       " 'piece',\n",
       " 'pitiful',\n",
       " 'pixel',\n",
       " 'place',\n",
       " 'plan',\n",
       " 'plantronic',\n",
       " 'plantronics',\n",
       " 'plantronincs',\n",
       " 'plastic',\n",
       " 'play',\n",
       " 'player',\n",
       " 'pleased',\n",
       " 'pleather',\n",
       " 'plenty',\n",
       " 'plug',\n",
       " 'plus',\n",
       " 'pocket',\n",
       " 'poor',\n",
       " 'poorly',\n",
       " 'port',\n",
       " 'portable',\n",
       " 'portrait',\n",
       " 'possibility',\n",
       " 'post',\n",
       " 'power',\n",
       " 'practical',\n",
       " 'practically',\n",
       " 'preferably',\n",
       " 'pretty',\n",
       " 'prevent',\n",
       " 'previous',\n",
       " 'price',\n",
       " 'pricing',\n",
       " 'prime',\n",
       " 'print',\n",
       " 'pro',\n",
       " 'probably',\n",
       " 'problem',\n",
       " 'product',\n",
       " 'program',\n",
       " 'prompt',\n",
       " 'promptly',\n",
       " 'properly',\n",
       " 'protect',\n",
       " 'protection',\n",
       " 'protector',\n",
       " 'provide',\n",
       " 'provided',\n",
       " 'puff',\n",
       " 'pull',\n",
       " 'purchase',\n",
       " 'purchased',\n",
       " 'purpose',\n",
       " 'push',\n",
       " 'quality',\n",
       " 'quick',\n",
       " 'quickly',\n",
       " 'quiet',\n",
       " 'quit',\n",
       " 'qwerty',\n",
       " 'range',\n",
       " 'rate',\n",
       " 'rating',\n",
       " 'razor',\n",
       " 'razr',\n",
       " 're',\n",
       " 'reach',\n",
       " 'read',\n",
       " 'ready',\n",
       " 'real',\n",
       " 'realize',\n",
       " 'reason',\n",
       " 'reasonable',\n",
       " 'reasonably',\n",
       " 'reboot',\n",
       " 'reccomendation',\n",
       " 'receive',\n",
       " 'recently',\n",
       " 'reception',\n",
       " 'recess',\n",
       " 'recieve',\n",
       " 'recognize',\n",
       " 'recommend',\n",
       " 'red',\n",
       " 'refurb',\n",
       " 'regret',\n",
       " 'relative',\n",
       " 'relatively',\n",
       " 'reliability',\n",
       " 'remorse',\n",
       " 'remove',\n",
       " 'render',\n",
       " 'reoccure',\n",
       " 'replace',\n",
       " 'replacement',\n",
       " 'requirement',\n",
       " 'resistant',\n",
       " 'resolution',\n",
       " 'respect',\n",
       " 'rest',\n",
       " 'restore',\n",
       " 'result',\n",
       " 'return',\n",
       " 'reverse',\n",
       " 'reversible',\n",
       " 'review',\n",
       " 'ride',\n",
       " 'right',\n",
       " 'riingtone',\n",
       " 'ring',\n",
       " 'ringer',\n",
       " 'ringtone',\n",
       " 'ringtones',\n",
       " 'rip',\n",
       " 'risk',\n",
       " 'rock',\n",
       " 'rocket',\n",
       " 'role',\n",
       " 'rotate',\n",
       " 'row',\n",
       " 'rubber',\n",
       " 'run',\n",
       " 's11',\n",
       " 'saggy',\n",
       " 'samsung',\n",
       " 'sanyo',\n",
       " 'satisfied',\n",
       " 'satisfy',\n",
       " 'satisifed',\n",
       " 'save',\n",
       " 'say',\n",
       " 'scary',\n",
       " 'scratch',\n",
       " 'screen',\n",
       " 'seamlessly',\n",
       " 'seat',\n",
       " 'second',\n",
       " 'secure',\n",
       " 'securely',\n",
       " 'securly',\n",
       " 'see',\n",
       " 'seeen',\n",
       " 'self',\n",
       " 'seller',\n",
       " 'send',\n",
       " 'sensitive',\n",
       " 'series',\n",
       " 'seriously',\n",
       " 'service',\n",
       " 'set',\n",
       " 'setting',\n",
       " 'setup',\n",
       " 'severe',\n",
       " 'sex',\n",
       " 'shape',\n",
       " 'share',\n",
       " 'sharp',\n",
       " 'ship',\n",
       " 'shipment',\n",
       " 'shipping',\n",
       " 'shooter',\n",
       " 'short',\n",
       " 'shot',\n",
       " 'shout',\n",
       " 'side',\n",
       " 'sight',\n",
       " 'signal',\n",
       " 'significantly',\n",
       " 'sim',\n",
       " 'simple',\n",
       " 'sin',\n",
       " 'sister',\n",
       " 'sit',\n",
       " 'situations',\n",
       " 'size',\n",
       " 'sketchy',\n",
       " 'skip',\n",
       " 'skype',\n",
       " 'sleek',\n",
       " 'slide',\n",
       " 'slim',\n",
       " 'slip',\n",
       " 'slow',\n",
       " 'slowly',\n",
       " 'small',\n",
       " 'smartphone',\n",
       " 'smell',\n",
       " 'smoke',\n",
       " 'smoother',\n",
       " 'smudge',\n",
       " 'snap',\n",
       " 'soft',\n",
       " 'software',\n",
       " 'somewhat',\n",
       " 'song',\n",
       " 'sony',\n",
       " 'soon',\n",
       " 'sorry',\n",
       " 'sos',\n",
       " 'sound',\n",
       " 'source',\n",
       " 'soyo',\n",
       " 'speaker',\n",
       " 'speakerphone',\n",
       " 'spec',\n",
       " 'speed',\n",
       " 'spinn',\n",
       " 'spring',\n",
       " 'sprint',\n",
       " 'standard',\n",
       " 'star',\n",
       " 'start',\n",
       " 'startac',\n",
       " 'state',\n",
       " 'static',\n",
       " 'station',\n",
       " 'stay',\n",
       " 'stop',\n",
       " 'storage',\n",
       " 'store',\n",
       " 'stream',\n",
       " 'strength',\n",
       " 'stress',\n",
       " 'strong',\n",
       " 'stuck',\n",
       " 'study',\n",
       " 'stuff',\n",
       " 'stupid',\n",
       " 'sturdy',\n",
       " 'styling',\n",
       " 'stylish',\n",
       " 'submerge',\n",
       " 'suck',\n",
       " 'sucked',\n",
       " 'suddenly',\n",
       " 'sunglass',\n",
       " 'sunglasse',\n",
       " 'super',\n",
       " 'superb',\n",
       " 'superfast',\n",
       " 'supertooth',\n",
       " 'support',\n",
       " 'supposedly',\n",
       " 'sure',\n",
       " 'surefire',\n",
       " 'surprised',\n",
       " 'survive',\n",
       " 'sweetest',\n",
       " 'switch',\n",
       " 'swivel',\n",
       " 'sync',\n",
       " 'synchronization',\n",
       " 'take',\n",
       " 'talk',\n",
       " 'tape',\n",
       " 'technology',\n",
       " 'telephone',\n",
       " 'tell',\n",
       " 'terrible',\n",
       " 'texas',\n",
       " 'text',\n",
       " 'thank',\n",
       " 'the',\n",
       " 'thereplacement',\n",
       " 'thin',\n",
       " 'thing',\n",
       " 'think',\n",
       " 'this',\n",
       " 'thorn',\n",
       " 'throw',\n",
       " 'thumbs',\n",
       " 'tick',\n",
       " ...]"
      ]
     },
     "execution_count": 330,
     "metadata": {},
     "output_type": "execute_result"
    }
   ],
   "source": [
    "cv.get_feature_names()"
   ]
  },
  {
   "cell_type": "code",
   "execution_count": 322,
   "id": "a92ae70a",
   "metadata": {},
   "outputs": [
    {
     "data": {
      "text/plain": [
       "(5, 1130)"
      ]
     },
     "execution_count": 322,
     "metadata": {},
     "output_type": "execute_result"
    }
   ],
   "source": [
    "LDA.components_.shape"
   ]
  },
  {
   "cell_type": "code",
   "execution_count": 321,
   "id": "3a0b934b",
   "metadata": {},
   "outputs": [
    {
     "data": {
      "text/plain": [
       "array([0.20000518, 0.20000755, 0.20000587, ..., 1.18815775, 0.20000689,\n",
       "       0.20000943])"
      ]
     },
     "execution_count": 321,
     "metadata": {},
     "output_type": "execute_result"
    }
   ],
   "source": [
    "LDA.components_[0]"
   ]
  },
  {
   "cell_type": "code",
   "execution_count": 323,
   "id": "90ad6113",
   "metadata": {},
   "outputs": [
    {
     "data": {
      "text/plain": [
       "array([ 881, 1010,  958, ...,  745,  573,  876])"
      ]
     },
     "execution_count": 323,
     "metadata": {},
     "output_type": "execute_result"
    }
   ],
   "source": [
    "LDA.components_[0].argsort()"
   ]
  },
  {
   "cell_type": "code",
   "execution_count": 326,
   "id": "a745b76f",
   "metadata": {},
   "outputs": [
    {
     "data": {
      "text/plain": [
       "(0.2000023466543037, 19.197354159379508)"
      ]
     },
     "execution_count": 326,
     "metadata": {},
     "output_type": "execute_result"
    }
   ],
   "source": [
    "LDA.components_[0][881], LDA.components_[0][876]"
   ]
  },
  {
   "cell_type": "code",
   "execution_count": 327,
   "id": "40c0bbe8",
   "metadata": {},
   "outputs": [
    {
     "data": {
      "text/plain": [
       "(0.2000023466543037, 19.197354159379508)"
      ]
     },
     "execution_count": 327,
     "metadata": {},
     "output_type": "execute_result"
    }
   ],
   "source": [
    "np.min(LDA.components_[0]), np.max(LDA.components_[0])"
   ]
  },
  {
   "cell_type": "code",
   "execution_count": 342,
   "id": "e5a0c8de",
   "metadata": {},
   "outputs": [],
   "source": [
    "most_dominant_words_index = LDA.components_[1].argsort()[-20 : ]"
   ]
  },
  {
   "cell_type": "code",
   "execution_count": 343,
   "id": "a9029807",
   "metadata": {},
   "outputs": [
    {
     "name": "stdout",
     "output_type": "stream",
     "text": [
      "look\n",
      "plug\n",
      "try\n",
      "buy\n",
      "battery\n",
      "sound\n",
      "time\n",
      "nice\n",
      "charger\n",
      "happy\n",
      "headset\n",
      "well\n",
      "quality\n",
      "fit\n",
      "ear\n",
      "price\n",
      "phone\n",
      "work\n",
      "good\n",
      "great\n"
     ]
    }
   ],
   "source": [
    "for index in most_dominant_words_index:\n",
    "    print(cv.get_feature_names()[index])"
   ]
  },
  {
   "cell_type": "code",
   "execution_count": 336,
   "id": "e63c6a93",
   "metadata": {},
   "outputs": [],
   "source": [
    "transformed_sentences_TM_prob = LDA.transform(cv_sentences)"
   ]
  },
  {
   "cell_type": "code",
   "execution_count": 337,
   "id": "3ba2761d",
   "metadata": {},
   "outputs": [
    {
     "data": {
      "text/plain": [
       "(749, 5)"
      ]
     },
     "execution_count": 337,
     "metadata": {},
     "output_type": "execute_result"
    }
   ],
   "source": [
    "transformed_sentences_TM_prob.shape"
   ]
  },
  {
   "cell_type": "code",
   "execution_count": 339,
   "id": "4965bc93",
   "metadata": {},
   "outputs": [
    {
     "data": {
      "text/plain": [
       "array([0, 0, 0, ..., 0, 0, 0])"
      ]
     },
     "execution_count": 339,
     "metadata": {},
     "output_type": "execute_result"
    }
   ],
   "source": [
    "cv_sentences.toarray()[0]"
   ]
  },
  {
   "cell_type": "code",
   "execution_count": 341,
   "id": "e03b4375",
   "metadata": {},
   "outputs": [
    {
     "data": {
      "text/plain": [
       "1"
      ]
     },
     "execution_count": 341,
     "metadata": {},
     "output_type": "execute_result"
    }
   ],
   "source": [
    "transformed_sentences_TM_prob[0].argmax()"
   ]
  },
  {
   "cell_type": "code",
   "execution_count": 344,
   "id": "92835274",
   "metadata": {},
   "outputs": [
    {
     "data": {
      "text/plain": [
       "array(['work', 'like loud buzzing override conversation phone',\n",
       "       'be satisfy', 'text messaging feature tricky use', 'pleased',\n",
       "       'easy turn car volume control accessable', 'wear', 'want', 'waste',\n",
       "       'read review problem', 'read spec make wow',\n",
       "       'needless waste money',\n",
       "       'utterly confuse cause lose couple important contact',\n",
       "       'amazed quick arrival original lg cell phone battery fraction price',\n",
       "       'good hope', 'love look feel samsung flipphone',\n",
       "       'loudspeaker option great bumper light appeal',\n",
       "       'microphone work accord people call applifie',\n",
       "       'frog phone charm adorable eye catch',\n",
       "       'colleague great reception little expensive performance great',\n",
       "       'warning stay away', 'unreliable service t mobile', 'great phone',\n",
       "       'buy product', 'get well well numerous palm', 'hear garbage audio',\n",
       "       'screen smudge easily touch ear face',\n",
       "       'basically throw money window', 'piece junk lose call phone',\n",
       "       'comfortable', 'horrible', 'disappointed',\n",
       "       'majority logitech earbud headsets fail',\n",
       "       'phone pretty sturdy large problem',\n",
       "       'good product incredible value',\n",
       "       'drop phone time concrete phone great knock wood', 'painful ear',\n",
       "       'fit', 'poor voice clarity', 'small realize get', 'price good',\n",
       "       'fast service',\n",
       "       'unfortunately ability actually know receive important feature phone pitiful respect',\n",
       "       'pretty good product',\n",
       "       'picture battery drop bar start beep let know die',\n",
       "       'bad piece crap verizon customer service',\n",
       "       'hold charge long time reasonably comfortable long wear condition quality sound tremendous',\n",
       "       'look good quality motorola headset look',\n",
       "       'bt headset currently good real time game like person shooter audio delay messes',\n",
       "       'know push hard right number time function want',\n",
       "       'nearly good look amazon picture make look', 'definitly recommend',\n",
       "       'mic joke volume low',\n",
       "       'allow possibility double booking date time',\n",
       "       'product clearly ready prime time care cool look tell come worthless',\n",
       "       'feel comfortable headset wear glass get way', 'hope',\n",
       "       'look headset long time get happy',\n",
       "       'choice headset year great sound good volume good noise cancellation',\n",
       "       'end slide edge pant pocket instead',\n",
       "       'phone take forever charge like hour literally', 'beware',\n",
       "       'work great',\n",
       "       'post detailed comment grey black phone fire red great color',\n",
       "       'incredible', 'amazon suck',\n",
       "       'year fliptop start loose wobbly eventually screen go black receive place call',\n",
       "       'maintain monkeys headphone obviously share dna copy design human',\n",
       "       'hype phone assume good mistake', 'right mind gon na buy battery',\n",
       "       'horrible switch time',\n",
       "       'keyboard worthwhile usefulness sturdy expect problem',\n",
       "       'strong signal', 'look cool',\n",
       "       'product cost expect work far well great ease thing',\n",
       "       'great case price',\n",
       "       'warranty problem reoccure line money cingular support',\n",
       "       'camera rate impressive megapixel render image fall expectation relatively high resolution',\n",
       "       'item fantastic work perfectly',\n",
       "       'buy phone replacement startac regret',\n",
       "       'verizon year ago like service', 'great item',\n",
       "       'leather nice soft fit tight cut face good shape',\n",
       "       'jawbone go replace', 'work people hear talk',\n",
       "       'fit like glove strong secure durable', 'great phone',\n",
       "       'corded headset freedom wireless helpful', 'easy use',\n",
       "       'work price right',\n",
       "       'different minute call experience drop area bar',\n",
       "       'picture resolution far comparably price phone offer today',\n",
       "       'phone bad brand', 'well expect',\n",
       "       'thing phone work perfectly like', 'videos time quality poor',\n",
       "       'audio quality poor poor', 'mobile phone tool',\n",
       "       'integrate seamlessly motorola razr phone', 'good price',\n",
       "       'reception headset excellent', 'store phone number sim',\n",
       "       'great audio', 'infuriate',\n",
       "       'sit vehicle cradle belt headset lose signal', 'happy item',\n",
       "       'stay away q', 'commercial mislead', 'like return', 'easy',\n",
       "       'phone try hard fail ability phone', 'loud turn like',\n",
       "       'try exercise frustration', 'jabra eargels fit ear',\n",
       "       'company ship product promptly work', 'fit ear comfortable',\n",
       "       'good protection phone bulky', 'bar cell phone home nt hear',\n",
       "       'phone sturdy waterproof', 'plug work', '$ drain',\n",
       "       'phone sound ok great ok wife phone totally unintelligible understand word say',\n",
       "       'barely hear constantly say',\n",
       "       'blueant supertooth hand free phone speaker awesome',\n",
       "       'well reception clarity phone',\n",
       "       'convenient simple use get job make car ride smoother',\n",
       "       'think instruction provide helpful', 'receive product day broke',\n",
       "       'product strong rubber petroleum smell unbearable cause return',\n",
       "       'item match picture', 'wind completely useless', 'aggravate',\n",
       "       'link phone effort', 'go negatively review product',\n",
       "       'give star sound quality', 'battery work great',\n",
       "       'phone unusable new', 'instruction manual lacking', 'love thing',\n",
       "       'good audio quality', 'awkward use unreliable',\n",
       "       'recommend purchase jabra jx-10 series work flawlessly moto q figure',\n",
       "       'trust website expect helpful support', 'good phone market',\n",
       "       'year christmas buy rest family', 'recommend buying product',\n",
       "       'practically useless add kind boost reception buy',\n",
       "       'poor reliability', 'great sound service',\n",
       "       'nice quality build unlike cheap s', 'comfort family',\n",
       "       'satisfied purchase', 'kind flops',\n",
       "       'ear occupy background distracting',\n",
       "       'seller ship quickly cheap competitor', 'warning buy',\n",
       "       'try talk real loud shout telephone get old tell great',\n",
       "       'people complain find headset microphone weak', 'avoid',\n",
       "       'good wear hat sunglass', 'buy different phone', 'work',\n",
       "       'perform awful muffle tinny incoming sound severe echo end',\n",
       "       'give star able',\n",
       "       'fully charge go bed turn blue tooth wi fi notice left morning',\n",
       "       'm surprised good quality car charger review',\n",
       "       'work great car charger especially plug adapter time',\n",
       "       'good product',\n",
       "       'little geeky think s sex toast rock ooze sex right battery embed sleek stylish leather case',\n",
       "       'sister love', 'excellent',\n",
       "       'loud glad plantronic maintain flawless connection cell static normal use',\n",
       "       'great tool entertainment communication data management oh sure use activesync optimal datum synchronization result',\n",
       "       'sweetest phone', 'try unit fail month pro',\n",
       "       'call drop phone come screen go black bad stop ring intermittently',\n",
       "       'clip belt deffinitely feel like cent come',\n",
       "       'charge cingular att phone',\n",
       "       'highly recommend modest price cellular phone',\n",
       "       'disappointing thing speakerphone',\n",
       "       'lot website rating good phone i.', 'pleather case fit',\n",
       "       'bad pay $ $ $ month service', 'device great situations:1',\n",
       "       'bad software star', 'work describe',\n",
       "       'utter crap sound quality terrible',\n",
       "       'small sleek impressive look practical setup ample storage place',\n",
       "       'att clear sound distorted yell talk',\n",
       "       'good quality bargain buy buy cheapy big lot sound awful people end hear',\n",
       "       'look new earpiece', 'waste buck', 'great product price',\n",
       "       'result phone stuck max volume mute', 'bad reception',\n",
       "       'oh forget mention weird color effect phone',\n",
       "       'battery work replacement original come phone year ago',\n",
       "       'new battery work great phone', 'get phone end completely unhappy',\n",
       "       'purchase family friend enjoy clarity ease use',\n",
       "       'definitely good s11', 'battery unreliable service use antena',\n",
       "       'verizon bill difficult understand pricing plan simple',\n",
       "       'charge overnight battery work great',\n",
       "       'get defect risk buy build quality', 'light weight hardly notice',\n",
       "       'cutouts button place perfectly', 'great phone',\n",
       "       'chinese forgery abound',\n",
       "       'certainly comfortable functionality decent',\n",
       "       'buy mainly charger break soon purchase',\n",
       "       'usable keyboard actually turn pda real world useful machine instead neat gadget',\n",
       "       'keep catch cable seat pull phone turn',\n",
       "       'additional ear gel provided instruction whatsoever',\n",
       "       'buy d807 wrongly advertise d807', 'freezes frequently4',\n",
       "       'expect well consumer experience motorola', 'want money',\n",
       "       'piece crap', 'get signal verizon phone wo', 'nice design quality',\n",
       "       'happy price', 'worthwhile', 'drivng headset start ring reason',\n",
       "       'find product easy set use', 'terrible product waste money',\n",
       "       'jiggle plug line right decent volume',\n",
       "       'impressed headset plantronic', 'razr owner',\n",
       "       'great reception time', 'bt headset disapoinment',\n",
       "       'comfortable wear probably important aspect case', 'work great',\n",
       "       'bad headset', 'advise fool',\n",
       "       'sound quality device unacceptable quiet area hear',\n",
       "       'purchase phone', 'design sharp blue nice color',\n",
       "       'tone acceptable', 'nt waste money', 'love device',\n",
       "       'work try device certainly engineer clever way construction feel good',\n",
       "       'happy far',\n",
       "       'bad phone samsung crap crappy samsung e715 bad seeen',\n",
       "       'drop phone stream submerge second work great', 'magical help',\n",
       "       'manage bend leaf spring place metal stress break drop',\n",
       "       'phone get extremely hot', 'poor product',\n",
       "       'girl complain time phone wake like normal phone',\n",
       "       'need mins phone book time turn phone battery life short',\n",
       "       'seller understanding patient definitely buy', 'thank waste money',\n",
       "       'disappoint accessoryone', 'worth',\n",
       "       'excellent dual purpose headset', 'great phone',\n",
       "       'impressed go original battery extend battery', 'phone work great',\n",
       "       'feel light tinny',\n",
       "       'recommend igo different brand cell phone mp3 player family',\n",
       "       'riingtone good game', 'work week break',\n",
       "       'good charger see market', 'replacement die week',\n",
       "       'comfortable ear', 'have trouble volume', 'thumbs seller',\n",
       "       'big complaint battery drain superfast', 'disappointed battery',\n",
       "       'comfortable ear', 'basically service bad',\n",
       "       'argue verizon drop call return phone day', 'great earpiece',\n",
       "       'day easy hear', 't mobile good customer service',\n",
       "       'camera color balance awful', 'far good',\n",
       "       'forever overly expensive replace easy operate sound well try',\n",
       "       'stupid buy new charger car charger cradle headphone car kit time new phone come',\n",
       "       'nokia ca-42 usb cable work phone', 'case', 'love color',\n",
       "       'upload ringtones party', 'answer calls unit work',\n",
       "       'plantronincs continue use flawed charger design',\n",
       "       'try handsfree gadget finally work', 'infatuate phone', 'say',\n",
       "       'use case smell disgust', 'sturdy', 'well expect', 'charge',\n",
       "       'fine reasonable price i.e.',\n",
       "       'continue pair periodically keep drop',\n",
       "       'fit surefire gx2 perfectly', 'product high quality chinese crap',\n",
       "       'bluetooth week like',\n",
       "       'sound quality end excellent use headset wife ask wife use headset',\n",
       "       'disappointment', 'excellent bluetooth headset',\n",
       "       'iriver spinn case fit fine', 'earpiece large heavy keep fall ear',\n",
       "       'phone crash completely replace',\n",
       "       'absolutely horrible reception apartment phone problem',\n",
       "       'talk useless customer service', 'pictures case lense cover',\n",
       "       'bought charge', 'waste time', 'great recommend',\n",
       "       'fit comfortably come size earbud tip',\n",
       "       'verizon lg phone work good reception range exceed foot line sight',\n",
       "       'problem item order need', 'great phone', 'shipping time quick',\n",
       "       'get lot compliment', 'voice quality signal strength drop call',\n",
       "       'look great strong', 'disappointed decision', 'bit disappointed',\n",
       "       'portable work', 'problem mention', 'highly recommend case',\n",
       "       'nt software work computer',\n",
       "       'problem ear loop weak material break easily',\n",
       "       'good rotate feature helpful', 'ngage lacking earbud',\n",
       "       'difficult recommend avoid product', 'return', 'love phone',\n",
       "       'restore phone like new performance', 'wear glass fit fine',\n",
       "       'play loud speaker size price low think quality lacking',\n",
       "       'ear loop need tiny sound great', 'father v265 battery die',\n",
       "       'company joke', 'obviously terrible customer service pay',\n",
       "       'hear drive car usually loud setting',\n",
       "       'handsfree work fine car try download address book treo reboot overall rate device high',\n",
       "       'addition feel look phone lightweight cheap plastic',\n",
       "       'check voice mail night keypad backlight turn second message lose',\n",
       "       'work',\n",
       "       'super charge use small hybrid palmtop camera cellphone excel role',\n",
       "       'pair device easy barely take couple minute start make call voice dialing feature',\n",
       "       'bad quality', 'sound quality great', 'poor quality',\n",
       "       'great value', 'definitely bargain', 'satisifed',\n",
       "       'comfortable nice range good battery life',\n",
       "       'good item work start have problem auto reverse tape player',\n",
       "       'bad', 'nt waste money', 'dirty', 'buy want use holster',\n",
       "       'big disappointment calendar sync', 'get', 'great little item',\n",
       "       'horrible tick sound background call experience',\n",
       "       'extremely slow take forever', 'impressed recommend item',\n",
       "       'linksys way exchange bad phone refurb unit', 'recommend',\n",
       "       'slim fit alarm clock docking station remove case',\n",
       "       'click place way make wonder long mechanism',\n",
       "       'lately extremely nice helpful phone',\n",
       "       'year battery go completely dead headset', 'beautiful styling',\n",
       "       'wanted plantronic right issue good', 'love bluetooth',\n",
       "       'bose noise cancel amazing important nyc commuter',\n",
       "       'rip off---- charge shipping', 'good case excellent value',\n",
       "       'happy', 'think hold securly belt', '', 'excellent sound quality',\n",
       "       'phone thorn abhor', 'pretty piece junk',\n",
       "       'adapter provide charge current', 'find product waaay big',\n",
       "       'disappointed', 'work like charm work advertise',\n",
       "       'great camera s 2mp pic nice clear great picture quality',\n",
       "       'store buy new nokia phone work great', 'excellent product price',\n",
       "       'recommend', 'receive quickly work great', 'recommend',\n",
       "       'battery life long motorola razor v3i', 'battery life great',\n",
       "       'new one work properly',\n",
       "       'light plenty battery capacity confortable wear somewhat extended period time',\n",
       "       'excited headset think cute',\n",
       "       'average phone bad battery life operate weak network',\n",
       "       'phone load super', 'star plus plus', 'good work amazon',\n",
       "       'disappointed charger work', 'love headset', 'worthless product',\n",
       "       'know sound funny like sketchy technology work work great',\n",
       "       'wear everyday hold', 'fantastic earphone', 'bad customer service',\n",
       "       'figure', 'reception terrible static',\n",
       "       'superb phone great network', 'look nice',\n",
       "       'holster arrive match photo ad', 'highly recommend product',\n",
       "       'great pocket pc phone combination',\n",
       "       'essentially communication tool communicate',\n",
       "       'loos connection phone couple foot',\n",
       "       'motorola finally get voice quality bluetooth headset right',\n",
       "       'try different earpiece cell phone jabra find fit ear comfortably',\n",
       "       'button bad', 'absolutel junk', 'fixes problem',\n",
       "       'thing hate mode set button', 'package arrive time work intend',\n",
       "       'battery charge life long', 'case order',\n",
       "       'simple lightweight great fit',\n",
       "       'headset fulfill requirement happy purchase', 'good headset',\n",
       "       'disappointing', 'particular model work motorola q smartphone',\n",
       "       'great bluetooth', 'item work great broke month use',\n",
       "       'ear bud play music ear', 've invent soon',\n",
       "       'go motorola website follow direction pair', 'work buy',\n",
       "       'design flaw', 'phone year tell great',\n",
       "       'bother contact company dollar product learn lesson buy form online',\n",
       "       'clear quality sound mess sound ipod sound button headset',\n",
       "       'cheap feel look cheap', 'real improvement', 'waste $ $ $',\n",
       "       'early review note plug charger happen',\n",
       "       'sanyo survive dozen drop blacktop ill effect',\n",
       "       'uncomfortable sound quality poor compare phone razr previous wire headset plug lg',\n",
       "       'echo problem unsatisfactory',\n",
       "       'need hand operate screen software interface decade old compete new software design',\n",
       "       'total package', 'size send headset stay ear', 'mistake',\n",
       "       'house get drop coverage upstairs coverage basement',\n",
       "       'own phone month well mobile phone', 'reception generally good',\n",
       "       'pair iphone happier far', 'happy',\n",
       "       'headphone great find think good purchase year seriously',\n",
       "       '5-year old nokia tracfone hold charge lot well', 'w810i superb',\n",
       "       'work great', 'disappointment hate go ear', 'work great',\n",
       "       'great ipods',\n",
       "       'year carry high quality anti glare screen protector find date',\n",
       "       'tracfonewebsite user friendly make easy toactivate etc',\n",
       "       'great product fast shipping', 'work',\n",
       "       'work pair treo 700w skype headset pc usb bluetooth transceiver',\n",
       "       'receive order ship timeframe good working order overall excite source',\n",
       "       'saggy floppy piece junk',\n",
       "       'price good free shipping good purchase', 'awesome new look fall',\n",
       "       'dit work time nokia', 'exchange phone problem', 'delivery time',\n",
       "       'work comfortable',\n",
       "       'product useless charge current charge cellphone plan use',\n",
       "       'excellent phone', 'work', 'attractive appear good quality',\n",
       "       'overall recommend phone new walkman', 'thing happen track',\n",
       "       'buy battery coupon amazon happy purchase',\n",
       "       'excellent sound battery life inconspicuous boot', 'great jawbone',\n",
       "       'love camera pretty good quality', 'protect phone side',\n",
       "       'drain weak snap', 'day later puff smoke come phone use',\n",
       "       'love phone', 'pleased headset',\n",
       "       'volume ringer real good choice loud', 'work',\n",
       "       'tied charger conversation last minute major problem',\n",
       "       'plan use car forget',\n",
       "       'bluetooth range good day ago leave phone trunk get carry conversation hitch',\n",
       "       'save money item month',\n",
       "       'say phone camera nice cool effect play video decent',\n",
       "       'want clip go ear cause discomfort', 'great phone', 'great price',\n",
       "       'highly recommend device', 'phone sturdy nokia bar phone',\n",
       "       'file browser offer option need handsfree great',\n",
       "       'poorly contstruct hinge', 'sound quality excellent',\n",
       "       'disappointed',\n",
       "       'receive white colored battery go dead couple hoursthe original week last longer thereplacement',\n",
       "       'problem wit hit drop signal', 'waste money',\n",
       "       'excellent product price', 'battery completely useless',\n",
       "       'like nokia', 'good headset', 'bad phone', 'great phone', 'want',\n",
       "       'phone fast send kind message web browsing significantly fast previous phone',\n",
       "       'find cell phone right away enter car', 'waste money time',\n",
       "       'sound quality good functionality awesome',\n",
       "       'obviously problem adhesive', 'satisfied cell phone day',\n",
       "       'love product', 'phone year best', 'wish return unit money',\n",
       "       'thing disappoint infra red port irda', 'mistake buy phone',\n",
       "       'wind resistant', 'pleased product far',\n",
       "       'buy use kindle fire absolutely love', 'cool phone',\n",
       "       'charge keep go dead minute',\n",
       "       'completely secure hold belt keep iphone inside',\n",
       "       'work europe asia', 'sprint terrible customer service',\n",
       "       'product ideal people like ear sensitive', 'buy',\n",
       "       'love feature form factor', 'mic work',\n",
       "       'product excellent work well verizon boy cheap',\n",
       "       'keyboard nice compromise qwerty basic cell phone number keypad',\n",
       "       'jabra earset happy sound quality especially outgoing well',\n",
       "       'work great', 'buyer remorse', 'far work like charm',\n",
       "       'appear actually outperform original battery china come v325i',\n",
       "       'long', 'plantronics bluetooth excelent buy',\n",
       "       'need well instruction', 'order product unhappy immediately',\n",
       "       'leopard print wonderfully wild', 'battery holding',\n",
       "       'love phone handy lot feature',\n",
       "       'love cable allow connect mini usb device pc',\n",
       "       'great new package nice work good problem come time expect',\n",
       "       'unfortunately easy accidentally activate gentle touch button accidentally touch phone face listen',\n",
       "       'price amazon excellent product highly recommend',\n",
       "       'clear crisp sound', 'excellent hand free tool',\n",
       "       'cable look thin flimsy scary', 'need ask', 'buy save alot money',\n",
       "       'near hear conversation', 'bad purchase',\n",
       "       'accompany software brilliant', 'love great armband',\n",
       "       'buyer beware flush money right toilet',\n",
       "       'be?the audio quality poor', 'extra minute carry cut',\n",
       "       'lightweight work',\n",
       "       'pleased replace travle swivel holster blackberry flip',\n",
       "       'problem phone read memory card turn', 'button small',\n",
       "       'finally time spring latch break use long visor',\n",
       "       'nice case feel good hand', 'think good investment',\n",
       "       'good electronic available fm transmitter', 'jabra ear gel r good',\n",
       "       'work', 'happy purchase- good quality low price',\n",
       "       'buy hope bluetooth headset fit well thing impossible wear',\n",
       "       'timely shipment quality product',\n",
       "       'software great job ringtone form exist cds internet connection',\n",
       "       'headset works peachy keen',\n",
       "       'thank amazon have thing need good price',\n",
       "       'fit palm tungsten e2 break time try plug',\n",
       "       'experience terrible bluetooth headset comfortable jabra hate',\n",
       "       'soyo technology suck', 'cool case open allow screen scratch',\n",
       "       'work perfectly', 'sprint charges service',\n",
       "       'hold phone particular angle party hear clearly',\n",
       "       'highly recommend encourage people try',\n",
       "       'bmw series fairly quiet trouble hear person say',\n",
       "       'take drop inches kitchen counter crack impressed laughing',\n",
       "       'unreliable giving', 'sucked stuff work phone',\n",
       "       'phone get year old slowly break despite care', 'great charger',\n",
       "       'receive headset good time happy', 'excellent service',\n",
       "       'poor talk time performance', 'defeat purpose bluetooth headset',\n",
       "       'battery run quickly', 'month work flawlessly far',\n",
       "       'bad phone month',\n",
       "       'like product motorola allot clear ear piece mic',\n",
       "       'run new battery bar day charge',\n",
       "       'inexpensive piece expect well quality', 'care consumer bit',\n",
       "       'plug find darn thing work', 'blue ant easy use', 'great problem',\n",
       "       'kind embarrassing use look embarrassing child like company',\n",
       "       'design odd ear clip comfortable', 'make easy hold',\n",
       "       'easy access phone handy detachable belt clip',\n",
       "       'feel poorly construct menu difficult navigate button recess difficult push',\n",
       "       'sound clear people talk amazed quality',\n",
       "       'recognize phone storage device', 'good phone',\n",
       "       'case flimsy piece plastic protection whatsoever',\n",
       "       'buy nokia cell phone week ago nightmare',\n",
       "       'good value work fine power usb car wall outlet',\n",
       "       'volume switch rocket unit destination unknown',\n",
       "       'usually like headband lightweight mess hair', 'pay guess',\n",
       "       'like button feel like crack use',\n",
       "       'simple little phone use breakage unacceptible', 'time buying',\n",
       "       'beat price', 'think plan one!this sure moto phone',\n",
       "       'reach row uncomfortable send end key expect be.3',\n",
       "       'bluetoooth headset time comfortable way fit ear',\n",
       "       'stay away store careful', 'bt50 battery junk',\n",
       "       'use product motor control center lot high voltage humming equipment work great',\n",
       "       'work fine motorola cellphone lot well wear battery',\n",
       "       'disappointing accessory good manufacturer',\n",
       "       'fit securely ear hook need sound well direct ear canal',\n",
       "       'easy use', 'battery life real good',\n",
       "       'big drawback mp3 player button phone cover let pause skip song lock second',\n",
       "       'new problem', 'highly recommend',\n",
       "       'try cable computer ipod work fine',\n",
       "       'excellent tool especially pair phone auto answer',\n",
       "       'well hard plastic case',\n",
       "       'connected wife bluetooth,(motorola hs850 phone work like charm phone pocket case',\n",
       "       'wait sure item work recieve', 'igo charger tip great',\n",
       "       'fit comfortably ear sound clear loud charge last couple day',\n",
       "       'year leave contract hate phone',\n",
       "       'unusable moving car freeway speed', 'fantastic buy phone',\n",
       "       'good bluetooth market',\n",
       "       'embarassing ear hurt try push ear plug ear',\n",
       "       'sound good reasonably price effective simple',\n",
       "       'come verizon cingulair nicer cell phone thing notice bad service',\n",
       "       'phone accept cbr mp3s preferably rip window medium player',\n",
       "       'instruction explain microphone jack', 'plastic break easy clip',\n",
       "       'exactly want',\n",
       "       'exchange sony ericson z500a pretty happy decision',\n",
       "       'product exactly describe', 'thank great service',\n",
       "       'return hour later', 'joy use',\n",
       "       'highly recommend blue tooth phone', 'order',\n",
       "       'razr battery good buy', 'great deal', 'comfortable hand',\n",
       "       'product great make working lot easy copier wait hold',\n",
       "       'great price', 'work good', 'purchase day long work',\n",
       "       'poor construction', 'work',\n",
       "       'recently problem stay connected minute disconnect',\n",
       "       'glad find product amazon hard find high price',\n",
       "       'self portrait outside exterior display cool',\n",
       "       'horrible horrible protector',\n",
       "       'definitely recommend jabra bt250v look comfort clarity great price',\n",
       "       'sorry purchase', 're tone overall good phone buy',\n",
       "       'phone fall easily', 'great product sure beat finger',\n",
       "       'awesome device', 'good far probably best bt headset',\n",
       "       'good stuff price', 'excellent wallet type phone case',\n",
       "       'good thing fit comfortably small ear',\n",
       "       'reversible plug work great',\n",
       "       'item state include description include',\n",
       "       'huge design flaw correctly think case', 'hand good phone',\n",
       "       'good item low price', 'cheap plastic creak like old wooden floor',\n",
       "       'good work fine', 'glad purchased',\n",
       "       'use small earpiece provide stay pretty', 'good quality',\n",
       "       'truly awful', 'phone slim light display beautiful',\n",
       "       'terrible phone holder', 'crisp clear', 'good case',\n",
       "       'dozen contact imagine fun send',\n",
       "       'get phone reccomendation relative glad',\n",
       "       'receive supposedly new motorola apparently match phone charger',\n",
       "       'hate earbug avoid phone mean', 'product wrong', 'happy product',\n",
       "       'nice headset price right', 'bad fit way big', 'battery terrible',\n",
       "       'clear skype call long battery life long range',\n",
       "       'poor quality service', 'reception poor',\n",
       "       'bitpim free program find internet)to transfer data phone price cable excellent',\n",
       "       'construction headset poor', 'buy product', 'low quality',\n",
       "       'week later activate suddenly die',\n",
       "       'quit working month purchase good headset own',\n",
       "       'mega pixel camera phone reasonably good7', 'features want',\n",
       "       'people nt hear talk pull earphone talk phone', 'good bargain',\n",
       "       'talk hour battery literally drain die', 'absolutely great',\n",
       "       'cut make beep beep beep sound say signal fail',\n",
       "       'great headset impress h500',\n",
       "       'complaint standard sound volume little low turn 5(of',\n",
       "       'phone slide car grip prevent phone slip hand',\n",
       "       'study interested bad sin industrial design',\n",
       "       'dissapointe performance', 'jawbone era awesome',\n",
       "       'keypads tinny reach wrong button',\n",
       "       'like loud buzzing override conversation phone',\n",
       "       'use unit sunglasse good texas', 'waste money time',\n",
       "       'beautiful phone', 'prompt service', 'setup simple',\n",
       "       'come strong light use light camera shot flash sos signal seriously',\n",
       "       'nearly year work great', 'item receive counterfeit'], dtype=object)"
      ]
     },
     "execution_count": 344,
     "metadata": {},
     "output_type": "execute_result"
    }
   ],
   "source": [
    "x_train"
   ]
  },
  {
   "cell_type": "code",
   "execution_count": 345,
   "id": "10cbf8de",
   "metadata": {},
   "outputs": [],
   "source": [
    "df = pd.DataFrame(x_train, columns = [\"Review\"])"
   ]
  },
  {
   "cell_type": "code",
   "execution_count": 349,
   "id": "61c8c4c8",
   "metadata": {},
   "outputs": [],
   "source": [
    "df[\"Topic\"] = transformed_sentences_TM_prob.argmax(axis = 1)"
   ]
  },
  {
   "cell_type": "code",
   "execution_count": 351,
   "id": "0193c01e",
   "metadata": {},
   "outputs": [],
   "source": [
    "df.Topic = df.Topic.apply(lambda x: x + 1)"
   ]
  },
  {
   "cell_type": "code",
   "execution_count": 353,
   "id": "8fbf0b3e",
   "metadata": {},
   "outputs": [
    {
     "data": {
      "text/html": [
       "<div>\n",
       "<style scoped>\n",
       "    .dataframe tbody tr th:only-of-type {\n",
       "        vertical-align: middle;\n",
       "    }\n",
       "\n",
       "    .dataframe tbody tr th {\n",
       "        vertical-align: top;\n",
       "    }\n",
       "\n",
       "    .dataframe thead th {\n",
       "        text-align: right;\n",
       "    }\n",
       "</style>\n",
       "<table border=\"1\" class=\"dataframe\">\n",
       "  <thead>\n",
       "    <tr style=\"text-align: right;\">\n",
       "      <th></th>\n",
       "      <th>Review</th>\n",
       "      <th>Topic</th>\n",
       "    </tr>\n",
       "  </thead>\n",
       "  <tbody>\n",
       "    <tr>\n",
       "      <th>0</th>\n",
       "      <td>work</td>\n",
       "      <td>2</td>\n",
       "    </tr>\n",
       "    <tr>\n",
       "      <th>1</th>\n",
       "      <td>like loud buzzing override conversation phone</td>\n",
       "      <td>5</td>\n",
       "    </tr>\n",
       "    <tr>\n",
       "      <th>2</th>\n",
       "      <td>be satisfy</td>\n",
       "      <td>3</td>\n",
       "    </tr>\n",
       "    <tr>\n",
       "      <th>3</th>\n",
       "      <td>text messaging feature tricky use</td>\n",
       "      <td>3</td>\n",
       "    </tr>\n",
       "    <tr>\n",
       "      <th>4</th>\n",
       "      <td>pleased</td>\n",
       "      <td>1</td>\n",
       "    </tr>\n",
       "    <tr>\n",
       "      <th>...</th>\n",
       "      <td>...</td>\n",
       "      <td>...</td>\n",
       "    </tr>\n",
       "    <tr>\n",
       "      <th>744</th>\n",
       "      <td>prompt service</td>\n",
       "      <td>1</td>\n",
       "    </tr>\n",
       "    <tr>\n",
       "      <th>745</th>\n",
       "      <td>setup simple</td>\n",
       "      <td>5</td>\n",
       "    </tr>\n",
       "    <tr>\n",
       "      <th>746</th>\n",
       "      <td>come strong light use light camera shot flash ...</td>\n",
       "      <td>5</td>\n",
       "    </tr>\n",
       "    <tr>\n",
       "      <th>747</th>\n",
       "      <td>nearly year work great</td>\n",
       "      <td>2</td>\n",
       "    </tr>\n",
       "    <tr>\n",
       "      <th>748</th>\n",
       "      <td>item receive counterfeit</td>\n",
       "      <td>3</td>\n",
       "    </tr>\n",
       "  </tbody>\n",
       "</table>\n",
       "<p>749 rows × 2 columns</p>\n",
       "</div>"
      ],
      "text/plain": [
       "                                                Review  Topic\n",
       "0                                                 work      2\n",
       "1        like loud buzzing override conversation phone      5\n",
       "2                                           be satisfy      3\n",
       "3                    text messaging feature tricky use      3\n",
       "4                                              pleased      1\n",
       "..                                                 ...    ...\n",
       "744                                     prompt service      1\n",
       "745                                       setup simple      5\n",
       "746  come strong light use light camera shot flash ...      5\n",
       "747                             nearly year work great      2\n",
       "748                           item receive counterfeit      3\n",
       "\n",
       "[749 rows x 2 columns]"
      ]
     },
     "execution_count": 353,
     "metadata": {},
     "output_type": "execute_result"
    }
   ],
   "source": [
    "df"
   ]
  },
  {
   "cell_type": "code",
   "execution_count": null,
   "id": "58e1ade9",
   "metadata": {},
   "outputs": [],
   "source": []
  }
 ],
 "metadata": {
  "kernelspec": {
   "display_name": "Python 3 (ipykernel)",
   "language": "python",
   "name": "python3"
  },
  "language_info": {
   "codemirror_mode": {
    "name": "ipython",
    "version": 3
   },
   "file_extension": ".py",
   "mimetype": "text/x-python",
   "name": "python",
   "nbconvert_exporter": "python",
   "pygments_lexer": "ipython3",
   "version": "3.9.6"
  }
 },
 "nbformat": 4,
 "nbformat_minor": 5
}
