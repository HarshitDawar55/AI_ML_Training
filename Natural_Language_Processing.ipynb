{
  "nbformat": 4,
  "nbformat_minor": 0,
  "metadata": {
    "colab": {
      "name": "Natural Language Processing.ipynb",
      "provenance": []
    },
    "kernelspec": {
      "name": "python3",
      "display_name": "Python 3"
    },
    "language_info": {
      "name": "python"
    }
  },
  "cells": [
    {
      "cell_type": "markdown",
      "metadata": {
        "id": "syUpHfdw8dSx"
      },
      "source": [
        "# Natural Language Processing by `Mr. Harshit Dawar!`"
      ]
    },
    {
      "cell_type": "markdown",
      "metadata": {
        "id": "IxzL8QE78fLc"
      },
      "source": [
        "# Basics"
      ]
    },
    {
      "cell_type": "markdown",
      "metadata": {
        "id": "jNFF2dD0-tY-"
      },
      "source": [
        "### Building a simple chatbot!"
      ]
    },
    {
      "cell_type": "code",
      "metadata": {
        "id": "dNSKXU0F8LRb"
      },
      "source": [
        "def chatbot():\n",
        "  query = input()\n",
        "  if query == \"hi\" or query == \"hello\":\n",
        "    return \"Hi, I am good, how are you?\""
      ],
      "execution_count": 63,
      "outputs": []
    },
    {
      "cell_type": "code",
      "metadata": {
        "colab": {
          "base_uri": "https://localhost:8080/"
        },
        "id": "etxhZGV98bmr",
        "outputId": "37b3e810-64b7-4b8e-e27a-fa877e06651a"
      },
      "source": [
        "print(chatbot())"
      ],
      "execution_count": 64,
      "outputs": [
        {
          "output_type": "stream",
          "text": [
            "hi\n",
            "Hi, I am good, how are you?\n"
          ],
          "name": "stdout"
        }
      ]
    },
    {
      "cell_type": "markdown",
      "metadata": {
        "id": "0_RE52M1iPTD"
      },
      "source": [
        "### NLP Basic Processing"
      ]
    },
    {
      "cell_type": "code",
      "metadata": {
        "colab": {
          "base_uri": "https://localhost:8080/"
        },
        "id": "p8IzE78f-iC5",
        "outputId": "e1cbef8c-b50f-4ea3-94ee-7c3be2189233"
      },
      "source": [
        "import spacy\n",
        "\n",
        "# Downloading english langauge support for spacy\n",
        "!python -m spacy download en_core_web_sm"
      ],
      "execution_count": 65,
      "outputs": [
        {
          "output_type": "stream",
          "text": [
            "Collecting en_core_web_sm==2.2.5\n",
            "  Downloading https://github.com/explosion/spacy-models/releases/download/en_core_web_sm-2.2.5/en_core_web_sm-2.2.5.tar.gz (12.0 MB)\n",
            "\u001b[K     |████████████████████████████████| 12.0 MB 1.3 MB/s \n",
            "\u001b[?25hRequirement already satisfied: spacy>=2.2.2 in /usr/local/lib/python3.7/dist-packages (from en_core_web_sm==2.2.5) (2.2.4)\n",
            "Requirement already satisfied: requests<3.0.0,>=2.13.0 in /usr/local/lib/python3.7/dist-packages (from spacy>=2.2.2->en_core_web_sm==2.2.5) (2.23.0)\n",
            "Requirement already satisfied: wasabi<1.1.0,>=0.4.0 in /usr/local/lib/python3.7/dist-packages (from spacy>=2.2.2->en_core_web_sm==2.2.5) (0.8.2)\n",
            "Requirement already satisfied: catalogue<1.1.0,>=0.0.7 in /usr/local/lib/python3.7/dist-packages (from spacy>=2.2.2->en_core_web_sm==2.2.5) (1.0.0)\n",
            "Requirement already satisfied: cymem<2.1.0,>=2.0.2 in /usr/local/lib/python3.7/dist-packages (from spacy>=2.2.2->en_core_web_sm==2.2.5) (2.0.5)\n",
            "Requirement already satisfied: numpy>=1.15.0 in /usr/local/lib/python3.7/dist-packages (from spacy>=2.2.2->en_core_web_sm==2.2.5) (1.19.5)\n",
            "Requirement already satisfied: thinc==7.4.0 in /usr/local/lib/python3.7/dist-packages (from spacy>=2.2.2->en_core_web_sm==2.2.5) (7.4.0)\n",
            "Requirement already satisfied: plac<1.2.0,>=0.9.6 in /usr/local/lib/python3.7/dist-packages (from spacy>=2.2.2->en_core_web_sm==2.2.5) (1.1.3)\n",
            "Requirement already satisfied: blis<0.5.0,>=0.4.0 in /usr/local/lib/python3.7/dist-packages (from spacy>=2.2.2->en_core_web_sm==2.2.5) (0.4.1)\n",
            "Requirement already satisfied: setuptools in /usr/local/lib/python3.7/dist-packages (from spacy>=2.2.2->en_core_web_sm==2.2.5) (57.4.0)\n",
            "Requirement already satisfied: tqdm<5.0.0,>=4.38.0 in /usr/local/lib/python3.7/dist-packages (from spacy>=2.2.2->en_core_web_sm==2.2.5) (4.62.0)\n",
            "Requirement already satisfied: preshed<3.1.0,>=3.0.2 in /usr/local/lib/python3.7/dist-packages (from spacy>=2.2.2->en_core_web_sm==2.2.5) (3.0.5)\n",
            "Requirement already satisfied: srsly<1.1.0,>=1.0.2 in /usr/local/lib/python3.7/dist-packages (from spacy>=2.2.2->en_core_web_sm==2.2.5) (1.0.5)\n",
            "Requirement already satisfied: murmurhash<1.1.0,>=0.28.0 in /usr/local/lib/python3.7/dist-packages (from spacy>=2.2.2->en_core_web_sm==2.2.5) (1.0.5)\n",
            "Requirement already satisfied: importlib-metadata>=0.20 in /usr/local/lib/python3.7/dist-packages (from catalogue<1.1.0,>=0.0.7->spacy>=2.2.2->en_core_web_sm==2.2.5) (4.6.4)\n",
            "Requirement already satisfied: typing-extensions>=3.6.4 in /usr/local/lib/python3.7/dist-packages (from importlib-metadata>=0.20->catalogue<1.1.0,>=0.0.7->spacy>=2.2.2->en_core_web_sm==2.2.5) (3.7.4.3)\n",
            "Requirement already satisfied: zipp>=0.5 in /usr/local/lib/python3.7/dist-packages (from importlib-metadata>=0.20->catalogue<1.1.0,>=0.0.7->spacy>=2.2.2->en_core_web_sm==2.2.5) (3.5.0)\n",
            "Requirement already satisfied: certifi>=2017.4.17 in /usr/local/lib/python3.7/dist-packages (from requests<3.0.0,>=2.13.0->spacy>=2.2.2->en_core_web_sm==2.2.5) (2021.5.30)\n",
            "Requirement already satisfied: idna<3,>=2.5 in /usr/local/lib/python3.7/dist-packages (from requests<3.0.0,>=2.13.0->spacy>=2.2.2->en_core_web_sm==2.2.5) (2.10)\n",
            "Requirement already satisfied: urllib3!=1.25.0,!=1.25.1,<1.26,>=1.21.1 in /usr/local/lib/python3.7/dist-packages (from requests<3.0.0,>=2.13.0->spacy>=2.2.2->en_core_web_sm==2.2.5) (1.24.3)\n",
            "Requirement already satisfied: chardet<4,>=3.0.2 in /usr/local/lib/python3.7/dist-packages (from requests<3.0.0,>=2.13.0->spacy>=2.2.2->en_core_web_sm==2.2.5) (3.0.4)\n",
            "\u001b[38;5;2m✔ Download and installation successful\u001b[0m\n",
            "You can now load the model via spacy.load('en_core_web_sm')\n"
          ],
          "name": "stdout"
        }
      ]
    },
    {
      "cell_type": "code",
      "metadata": {
        "id": "uxYV_inJ_T6g"
      },
      "source": [
        "# Basic English Model to understand English Language!\n",
        "English_Model = spacy.load(\"en_core_web_sm\")"
      ],
      "execution_count": 66,
      "outputs": []
    },
    {
      "cell_type": "code",
      "metadata": {
        "id": "AnprtaZnAzG5"
      },
      "source": [
        "sente = \"Today there is Rakshbandhan, I am very happy about it. I will enjoy this festival as well as Sunday. I enjoyed this festival everytime & I will definitely enjoy this in upcoming years\""
      ],
      "execution_count": 67,
      "outputs": []
    },
    {
      "cell_type": "code",
      "metadata": {
        "colab": {
          "base_uri": "https://localhost:8080/"
        },
        "id": "fDhImWrziZUz",
        "outputId": "1273284f-b7ae-4718-8166-b8095b009588"
      },
      "source": [
        "# Splitting the sentence\n",
        "sente.split()"
      ],
      "execution_count": 68,
      "outputs": [
        {
          "output_type": "execute_result",
          "data": {
            "text/plain": [
              "['Today',\n",
              " 'there',\n",
              " 'is',\n",
              " 'Rakshbandhan,',\n",
              " 'I',\n",
              " 'am',\n",
              " 'very',\n",
              " 'happy',\n",
              " 'about',\n",
              " 'it.',\n",
              " 'I',\n",
              " 'will',\n",
              " 'enjoy',\n",
              " 'this',\n",
              " 'festival',\n",
              " 'as',\n",
              " 'well',\n",
              " 'as',\n",
              " 'Sunday.',\n",
              " 'I',\n",
              " 'enjoyed',\n",
              " 'this',\n",
              " 'festival',\n",
              " 'everytime',\n",
              " '&',\n",
              " 'I',\n",
              " 'will',\n",
              " 'definitely',\n",
              " 'enjoy',\n",
              " 'this',\n",
              " 'in',\n",
              " 'upcoming',\n",
              " 'years']"
            ]
          },
          "metadata": {},
          "execution_count": 68
        }
      ]
    },
    {
      "cell_type": "code",
      "metadata": {
        "colab": {
          "base_uri": "https://localhost:8080/"
        },
        "id": "4Pr2b1LIifu-",
        "outputId": "5e8e35d0-157c-4e8a-cc0a-d67744f01366"
      },
      "source": [
        "# Tokenization & Filtering using POS (Part Of Speech)\n",
        "tokens = English_Model(sente)\n",
        "for token in tokens:\n",
        "  if token.pos_ == \"ADJ\":\n",
        "    print(token.text, token.pos_)"
      ],
      "execution_count": 69,
      "outputs": [
        {
          "output_type": "stream",
          "text": [
            "happy ADJ\n",
            "upcoming ADJ\n"
          ],
          "name": "stdout"
        }
      ]
    },
    {
      "cell_type": "code",
      "metadata": {
        "colab": {
          "base_uri": "https://localhost:8080/"
        },
        "id": "3clZnBuzipcH",
        "outputId": "6ece0d7e-d3b5-4010-a6e2-3ea7212f9e8a"
      },
      "source": [
        "for token in tokens:\n",
        "    print(token.text + \"\\t\\t\" + str(token.is_stop)  + \"\\t\\t\" + str(token.is_punct))"
      ],
      "execution_count": 70,
      "outputs": [
        {
          "output_type": "stream",
          "text": [
            "Today\t\tFalse\t\tFalse\n",
            "there\t\tTrue\t\tFalse\n",
            "is\t\tTrue\t\tFalse\n",
            "Rakshbandhan\t\tFalse\t\tFalse\n",
            ",\t\tFalse\t\tTrue\n",
            "I\t\tTrue\t\tFalse\n",
            "am\t\tTrue\t\tFalse\n",
            "very\t\tTrue\t\tFalse\n",
            "happy\t\tFalse\t\tFalse\n",
            "about\t\tTrue\t\tFalse\n",
            "it\t\tTrue\t\tFalse\n",
            ".\t\tFalse\t\tTrue\n",
            "I\t\tTrue\t\tFalse\n",
            "will\t\tTrue\t\tFalse\n",
            "enjoy\t\tFalse\t\tFalse\n",
            "this\t\tTrue\t\tFalse\n",
            "festival\t\tFalse\t\tFalse\n",
            "as\t\tTrue\t\tFalse\n",
            "well\t\tTrue\t\tFalse\n",
            "as\t\tTrue\t\tFalse\n",
            "Sunday\t\tFalse\t\tFalse\n",
            ".\t\tFalse\t\tTrue\n",
            "I\t\tTrue\t\tFalse\n",
            "enjoyed\t\tFalse\t\tFalse\n",
            "this\t\tTrue\t\tFalse\n",
            "festival\t\tFalse\t\tFalse\n",
            "everytime\t\tFalse\t\tFalse\n",
            "&\t\tFalse\t\tTrue\n",
            "I\t\tTrue\t\tFalse\n",
            "will\t\tTrue\t\tFalse\n",
            "definitely\t\tFalse\t\tFalse\n",
            "enjoy\t\tFalse\t\tFalse\n",
            "this\t\tTrue\t\tFalse\n",
            "in\t\tTrue\t\tFalse\n",
            "upcoming\t\tFalse\t\tFalse\n",
            "years\t\tFalse\t\tFalse\n"
          ],
          "name": "stdout"
        }
      ]
    },
    {
      "cell_type": "code",
      "metadata": {
        "colab": {
          "base_uri": "https://localhost:8080/"
        },
        "id": "4LI1ZGjHkciH",
        "outputId": "b67f8a52-7a48-48e7-b6b1-799bfa5580e0"
      },
      "source": [
        "import nltk\n",
        "nltk.download(\"stopwords\")"
      ],
      "execution_count": 71,
      "outputs": [
        {
          "output_type": "stream",
          "text": [
            "[nltk_data] Downloading package stopwords to /root/nltk_data...\n",
            "[nltk_data]   Package stopwords is already up-to-date!\n"
          ],
          "name": "stdout"
        },
        {
          "output_type": "execute_result",
          "data": {
            "text/plain": [
              "True"
            ]
          },
          "metadata": {},
          "execution_count": 71
        }
      ]
    },
    {
      "cell_type": "code",
      "metadata": {
        "id": "7KvBZO6Dk9BB"
      },
      "source": [
        "from nltk.corpus import stopwords"
      ],
      "execution_count": 72,
      "outputs": []
    },
    {
      "cell_type": "code",
      "metadata": {
        "colab": {
          "base_uri": "https://localhost:8080/"
        },
        "id": "ZIjgnNONlEk2",
        "outputId": "fb9a68fd-79d3-4765-9551-e38944f1f850"
      },
      "source": [
        "print(stopwords.words(\"english\"))"
      ],
      "execution_count": 73,
      "outputs": [
        {
          "output_type": "stream",
          "text": [
            "['i', 'me', 'my', 'myself', 'we', 'our', 'ours', 'ourselves', 'you', \"you're\", \"you've\", \"you'll\", \"you'd\", 'your', 'yours', 'yourself', 'yourselves', 'he', 'him', 'his', 'himself', 'she', \"she's\", 'her', 'hers', 'herself', 'it', \"it's\", 'its', 'itself', 'they', 'them', 'their', 'theirs', 'themselves', 'what', 'which', 'who', 'whom', 'this', 'that', \"that'll\", 'these', 'those', 'am', 'is', 'are', 'was', 'were', 'be', 'been', 'being', 'have', 'has', 'had', 'having', 'do', 'does', 'did', 'doing', 'a', 'an', 'the', 'and', 'but', 'if', 'or', 'because', 'as', 'until', 'while', 'of', 'at', 'by', 'for', 'with', 'about', 'against', 'between', 'into', 'through', 'during', 'before', 'after', 'above', 'below', 'to', 'from', 'up', 'down', 'in', 'out', 'on', 'off', 'over', 'under', 'again', 'further', 'then', 'once', 'here', 'there', 'when', 'where', 'why', 'how', 'all', 'any', 'both', 'each', 'few', 'more', 'most', 'other', 'some', 'such', 'no', 'nor', 'not', 'only', 'own', 'same', 'so', 'than', 'too', 'very', 's', 't', 'can', 'will', 'just', 'don', \"don't\", 'should', \"should've\", 'now', 'd', 'll', 'm', 'o', 're', 've', 'y', 'ain', 'aren', \"aren't\", 'couldn', \"couldn't\", 'didn', \"didn't\", 'doesn', \"doesn't\", 'hadn', \"hadn't\", 'hasn', \"hasn't\", 'haven', \"haven't\", 'isn', \"isn't\", 'ma', 'mightn', \"mightn't\", 'mustn', \"mustn't\", 'needn', \"needn't\", 'shan', \"shan't\", 'shouldn', \"shouldn't\", 'wasn', \"wasn't\", 'weren', \"weren't\", 'won', \"won't\", 'wouldn', \"wouldn't\"]\n"
          ],
          "name": "stdout"
        }
      ]
    },
    {
      "cell_type": "code",
      "metadata": {
        "colab": {
          "base_uri": "https://localhost:8080/"
        },
        "id": "tWLsNAaIlGdw",
        "outputId": "8266d7fd-f44b-45b3-e814-ad31e6bd61aa"
      },
      "source": [
        "\"she\" in stopwords.words(\"english\")"
      ],
      "execution_count": 74,
      "outputs": [
        {
          "output_type": "execute_result",
          "data": {
            "text/plain": [
              "True"
            ]
          },
          "metadata": {},
          "execution_count": 74
        }
      ]
    },
    {
      "cell_type": "code",
      "metadata": {
        "colab": {
          "base_uri": "https://localhost:8080/"
        },
        "id": "NEU40gjUlqJn",
        "outputId": "8fa26301-19c6-4e51-ee28-4d295aafcf87"
      },
      "source": [
        "type(stopwords.words(\"english\"))"
      ],
      "execution_count": 75,
      "outputs": [
        {
          "output_type": "execute_result",
          "data": {
            "text/plain": [
              "list"
            ]
          },
          "metadata": {},
          "execution_count": 75
        }
      ]
    },
    {
      "cell_type": "code",
      "metadata": {
        "id": "dusQHtWomF3e"
      },
      "source": [
        "sw = stopwords.words(\"english\")"
      ],
      "execution_count": 76,
      "outputs": []
    },
    {
      "cell_type": "code",
      "metadata": {
        "id": "QZYKprpRmJFH"
      },
      "source": [
        "sw.remove(\"not\")"
      ],
      "execution_count": 77,
      "outputs": []
    },
    {
      "cell_type": "code",
      "metadata": {
        "colab": {
          "base_uri": "https://localhost:8080/"
        },
        "id": "JR-nIsOcmJgR",
        "outputId": "e0616948-98c1-4907-a050-80e9d0cf029d"
      },
      "source": [
        "\"not\" in sw"
      ],
      "execution_count": 78,
      "outputs": [
        {
          "output_type": "execute_result",
          "data": {
            "text/plain": [
              "False"
            ]
          },
          "metadata": {},
          "execution_count": 78
        }
      ]
    },
    {
      "cell_type": "code",
      "metadata": {
        "colab": {
          "base_uri": "https://localhost:8080/"
        },
        "id": "KDz_ntIFmNO8",
        "outputId": "1b094d22-fb02-4022-8799-49005e2bca43"
      },
      "source": [
        "\"not\" in stopwords.words(\"english\")"
      ],
      "execution_count": 79,
      "outputs": [
        {
          "output_type": "execute_result",
          "data": {
            "text/plain": [
              "True"
            ]
          },
          "metadata": {},
          "execution_count": 79
        }
      ]
    },
    {
      "cell_type": "code",
      "metadata": {
        "colab": {
          "base_uri": "https://localhost:8080/"
        },
        "id": "Zhqa35g2mVQB",
        "outputId": "dfbfa823-31dd-48ee-b1f0-437bd42c01bf"
      },
      "source": [
        "for token in tokens:\n",
        "  if (token.text.lower() not in sw) and not token.is_punct:\n",
        "    print(token.text.lower(), token.lemma_)"
      ],
      "execution_count": 80,
      "outputs": [
        {
          "output_type": "stream",
          "text": [
            "today today\n",
            "rakshbandhan Rakshbandhan\n",
            "happy happy\n",
            "enjoy enjoy\n",
            "festival festival\n",
            "well well\n",
            "sunday Sunday\n",
            "enjoyed enjoy\n",
            "festival festival\n",
            "everytime everytime\n",
            "definitely definitely\n",
            "enjoy enjoy\n",
            "upcoming upcoming\n",
            "years year\n"
          ],
          "name": "stdout"
        }
      ]
    },
    {
      "cell_type": "code",
      "metadata": {
        "id": "A43rkoHhqFEi"
      },
      "source": [
        "def Preprocess_data(text):\n",
        "  text = text.lower()\n",
        "  tokens = English_Model(text)\n",
        "\n",
        "  final_words = []\n",
        "\n",
        "  for token in tokens:\n",
        "    if not token.is_stop and not token.is_punct:\n",
        "      if token.lemma_ not in final_words:\n",
        "        final_words.append(token.lemma_)\n",
        "\n",
        "  return \" \".join(word for word in final_words)"
      ],
      "execution_count": 81,
      "outputs": []
    },
    {
      "cell_type": "code",
      "metadata": {
        "colab": {
          "base_uri": "https://localhost:8080/",
          "height": 52
        },
        "id": "WWm9Asdvq0Sp",
        "outputId": "48aaafdd-6ad5-4b26-d46d-073bdf92cd6e"
      },
      "source": [
        "sente"
      ],
      "execution_count": 82,
      "outputs": [
        {
          "output_type": "execute_result",
          "data": {
            "application/vnd.google.colaboratory.intrinsic+json": {
              "type": "string"
            },
            "text/plain": [
              "'Today there is Rakshbandhan, I am very happy about it. I will enjoy this festival as well as Sunday. I enjoyed this festival everytime & I will definitely enjoy this in upcoming years'"
            ]
          },
          "metadata": {},
          "execution_count": 82
        }
      ]
    },
    {
      "cell_type": "code",
      "metadata": {
        "colab": {
          "base_uri": "https://localhost:8080/",
          "height": 35
        },
        "id": "oUOQRdbrq1bf",
        "outputId": "167f8fb2-c196-40ea-fc5a-475ed28ed75d"
      },
      "source": [
        "Preprocess_data(sente)"
      ],
      "execution_count": 83,
      "outputs": [
        {
          "output_type": "execute_result",
          "data": {
            "application/vnd.google.colaboratory.intrinsic+json": {
              "type": "string"
            },
            "text/plain": [
              "'today rakshbandhan happy enjoy festival sunday everytime definitely upcoming year'"
            ]
          },
          "metadata": {},
          "execution_count": 83
        }
      ]
    },
    {
      "cell_type": "code",
      "metadata": {
        "colab": {
          "base_uri": "https://localhost:8080/"
        },
        "id": "yBfvAeurq3-9",
        "outputId": "81062796-97dd-4b8d-c9c8-649f942c092e"
      },
      "source": [
        "print(stopwords.words(\"german\"))"
      ],
      "execution_count": 84,
      "outputs": [
        {
          "output_type": "stream",
          "text": [
            "['aber', 'alle', 'allem', 'allen', 'aller', 'alles', 'als', 'also', 'am', 'an', 'ander', 'andere', 'anderem', 'anderen', 'anderer', 'anderes', 'anderm', 'andern', 'anderr', 'anders', 'auch', 'auf', 'aus', 'bei', 'bin', 'bis', 'bist', 'da', 'damit', 'dann', 'der', 'den', 'des', 'dem', 'die', 'das', 'dass', 'daß', 'derselbe', 'derselben', 'denselben', 'desselben', 'demselben', 'dieselbe', 'dieselben', 'dasselbe', 'dazu', 'dein', 'deine', 'deinem', 'deinen', 'deiner', 'deines', 'denn', 'derer', 'dessen', 'dich', 'dir', 'du', 'dies', 'diese', 'diesem', 'diesen', 'dieser', 'dieses', 'doch', 'dort', 'durch', 'ein', 'eine', 'einem', 'einen', 'einer', 'eines', 'einig', 'einige', 'einigem', 'einigen', 'einiger', 'einiges', 'einmal', 'er', 'ihn', 'ihm', 'es', 'etwas', 'euer', 'eure', 'eurem', 'euren', 'eurer', 'eures', 'für', 'gegen', 'gewesen', 'hab', 'habe', 'haben', 'hat', 'hatte', 'hatten', 'hier', 'hin', 'hinter', 'ich', 'mich', 'mir', 'ihr', 'ihre', 'ihrem', 'ihren', 'ihrer', 'ihres', 'euch', 'im', 'in', 'indem', 'ins', 'ist', 'jede', 'jedem', 'jeden', 'jeder', 'jedes', 'jene', 'jenem', 'jenen', 'jener', 'jenes', 'jetzt', 'kann', 'kein', 'keine', 'keinem', 'keinen', 'keiner', 'keines', 'können', 'könnte', 'machen', 'man', 'manche', 'manchem', 'manchen', 'mancher', 'manches', 'mein', 'meine', 'meinem', 'meinen', 'meiner', 'meines', 'mit', 'muss', 'musste', 'nach', 'nicht', 'nichts', 'noch', 'nun', 'nur', 'ob', 'oder', 'ohne', 'sehr', 'sein', 'seine', 'seinem', 'seinen', 'seiner', 'seines', 'selbst', 'sich', 'sie', 'ihnen', 'sind', 'so', 'solche', 'solchem', 'solchen', 'solcher', 'solches', 'soll', 'sollte', 'sondern', 'sonst', 'über', 'um', 'und', 'uns', 'unsere', 'unserem', 'unseren', 'unser', 'unseres', 'unter', 'viel', 'vom', 'von', 'vor', 'während', 'war', 'waren', 'warst', 'was', 'weg', 'weil', 'weiter', 'welche', 'welchem', 'welchen', 'welcher', 'welches', 'wenn', 'werde', 'werden', 'wie', 'wieder', 'will', 'wir', 'wird', 'wirst', 'wo', 'wollen', 'wollte', 'würde', 'würden', 'zu', 'zum', 'zur', 'zwar', 'zwischen']\n"
          ],
          "name": "stdout"
        }
      ]
    },
    {
      "cell_type": "markdown",
      "metadata": {
        "id": "hFfp23-UAaWy"
      },
      "source": [
        "### Named Entity Recognition"
      ]
    },
    {
      "cell_type": "code",
      "metadata": {
        "colab": {
          "base_uri": "https://localhost:8080/",
          "height": 52
        },
        "id": "hLdFsNOcsC2N",
        "outputId": "be17bdc9-6e95-4bed-e2e7-0fcbed2d50ab"
      },
      "source": [
        "sente"
      ],
      "execution_count": 85,
      "outputs": [
        {
          "output_type": "execute_result",
          "data": {
            "application/vnd.google.colaboratory.intrinsic+json": {
              "type": "string"
            },
            "text/plain": [
              "'Today there is Rakshbandhan, I am very happy about it. I will enjoy this festival as well as Sunday. I enjoyed this festival everytime & I will definitely enjoy this in upcoming years'"
            ]
          },
          "metadata": {},
          "execution_count": 85
        }
      ]
    },
    {
      "cell_type": "code",
      "metadata": {
        "id": "e6GNgNpWAefP"
      },
      "source": [
        "sente = \"Today there is Raksahbandhan, I am very happy about it. I will enjoy this festival as well as Sunday. I enjoyed this festival everytime & I will definitely enjoy this in upcoming years\""
      ],
      "execution_count": 86,
      "outputs": []
    },
    {
      "cell_type": "code",
      "metadata": {
        "colab": {
          "base_uri": "https://localhost:8080/"
        },
        "id": "t5i324PlAjAq",
        "outputId": "67687a80-d03f-448d-ff92-3cd6f2c2cbe0"
      },
      "source": [
        "spacy.displacy.serve( English_Model(sente), style = \"ent\" )"
      ],
      "execution_count": 91,
      "outputs": [
        {
          "output_type": "stream",
          "text": [
            "\n",
            "Using the 'ent' visualizer\n",
            "Serving on http://0.0.0.0:5000 ...\n",
            "\n",
            "Shutting down server on port 5000.\n"
          ],
          "name": "stdout"
        }
      ]
    },
    {
      "cell_type": "code",
      "metadata": {
        "id": "dw2u848bA1Ok"
      },
      "source": [
        ""
      ],
      "execution_count": null,
      "outputs": []
    }
  ]
}